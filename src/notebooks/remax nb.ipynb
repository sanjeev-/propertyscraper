{
 "cells": [
  {
   "cell_type": "code",
   "execution_count": 1,
   "metadata": {
    "collapsed": true
   },
   "outputs": [],
   "source": [
    "import os\n",
    "import sys\n",
    "from bs4 import BeautifulSoup\n",
    "from requests import get\n",
    "import requests\n"
   ]
  },
  {
   "cell_type": "code",
   "execution_count": 2,
   "metadata": {
    "collapsed": true
   },
   "outputs": [],
   "source": [
    "remax_url = 'https://leadingedge-northcarolina.remax.com/realestatehomesforsale/charlotte-nc-p001.html?query=listingdate-dorder/price-dorder/'\n",
    "BASE_URL='https://leadingedge-northcarolina.remax.com'"
   ]
  },
  {
   "cell_type": "code",
   "execution_count": 3,
   "metadata": {
    "collapsed": false
   },
   "outputs": [],
   "source": [
    "remax_soup = BeautifulSoup(get(remax_url).text,'html.parser')"
   ]
  },
  {
   "cell_type": "code",
   "execution_count": 4,
   "metadata": {
    "collapsed": false
   },
   "outputs": [],
   "source": [
    "remax_urls=[]\n",
    "search = remax_soup.find_all('a',class_='listing-pane-info js-detaillink')\n",
    "for link in search:\n",
    "    remax_urls.append(BASE_URL+link['href'])"
   ]
  },
  {
   "cell_type": "code",
   "execution_count": 6,
   "metadata": {
    "collapsed": false
   },
   "outputs": [],
   "source": [
    "house_soup = BeautifulSoup(get(remax_urls[1]).text,'html.parser')"
   ]
  },
  {
   "cell_type": "code",
   "execution_count": 7,
   "metadata": {
    "collapsed": true
   },
   "outputs": [],
   "source": [
    "def findReMaxURLS(soup):\n",
    "    \"\"\"\n",
    "    soup:  bs4 soup -  BeautifulSoup object of a url of a remax search result page\n",
    "    BASE_URL: string - the beginning of the URL that remax uses\n",
    "    -\n",
    "    returns: list - a list of all URLs of homes on the given page  \n",
    "    \"\"\"\n",
    "    BASE_URL='https://leadingedge-northcarolina.remax.com'\n",
    "    remax_urls = []\n",
    "    linksoup = soup.find_all('a',class_='listing-pane-info js-detaillink')\n",
    "    for crouton in linksoup:\n",
    "        remax_urls.append(BASE_URL+crouton['href'])\n",
    "    return remax_urls"
   ]
  },
  {
   "cell_type": "code",
   "execution_count": 8,
   "metadata": {
    "collapsed": false
   },
   "outputs": [
    {
     "data": {
      "text/plain": [
       "u'2100 Shadyview Drive'"
      ]
     },
     "execution_count": 8,
     "metadata": {},
     "output_type": "execute_result"
    }
   ],
   "source": [
    "house_soup.find_all('li',attrs={'hmsitemprop':'Address'})[0].text.strip()"
   ]
  },
  {
   "cell_type": "code",
   "execution_count": 9,
   "metadata": {
    "collapsed": false
   },
   "outputs": [],
   "source": [
    "def pullHomeData(home_url):\n",
    "    \"\"\"\n",
    "    home_url - string: url of the remax home from which we wish to extract data\n",
    "    \n",
    "    - \n",
    "    returns: home_dict: dict {\n",
    "    \n",
    "            address:{\n",
    "                    address_line1: [string] - street number, street\n",
    "                    unit: [string] - optional, apartment number, extra info\n",
    "                    state: [string] - state abbreviation (two letter)\n",
    "                    city: [string]\n",
    "                    country: [string] - country str\n",
    "                    zipcode: [string] - five number zipcode\n",
    "                    }\n",
    "                    \n",
    "            listing_data: {\n",
    "            \n",
    "                    list_price: int - home listing price (in USD)\n",
    "                    num_bedrooms: float - number of bedrooms (1 decimal)\n",
    "                    num_bathrooms: float - number of bathrooms (1 decimal)\n",
    "                    building_area_sq_ft: positive int in SQUARE FEET\n",
    "            \n",
    "            }\n",
    "            \n",
    "            valuation: {\n",
    "          \n",
    "            }\n",
    "            \n",
    "            features: {\n",
    "                \n",
    "                lot_size: float - size of the yard, in ACRES\n",
    "                floors: int - number of floors of the house\n",
    "                garage: int - is there a garage (not quite sure what this one is tbh)\n",
    "                date_listed_on_site: [datetime] date that the house was listed on the site \n",
    "                school: [text] - average rating of all nearby schools\n",
    "                coords: [tuple] a tuple of the latitude and longitude of the address\n",
    "                desc: [text] a paragraph description of the home\n",
    "                mls: [int] MLS listing number\n",
    "                recent_selling_history: [list of tuples] list of tuples of buying history\n",
    "                is_foreclosure: [boolean] is this a foreclosure home?\n",
    "                \n",
    "            }\n",
    "            \n",
    "            images: {\n",
    "            \n",
    "                image_list: list - a list of all the image urls associated with this house\n",
    "            \n",
    "            }\n",
    "    }       \n",
    "    \n",
    "    \"\"\"\n",
    "    scrape_address = {}\n",
    "    homesoup = BeautifulSoup(get(home_url).text,'html.parser')\n",
    "    scrape_address['address_line1']  = homesoup.find_all('li',attrs={'hmsitemprop':'Address'})[0].text.strip()\n",
    "    scrape_address['city']  = homesoup.find_all('li',attrs={'hmsitemprop':'City'})[0].text.strip()\n",
    "    scrape_address['state']  = homesoup.find_all('li',attrs={'hmsitemprop':'State'})[0].text.strip()\n",
    "    scrape_address['zipcode']  = homesoup.find_all('li',attrs={'hmsitemprop':'Zip'})[0].text.strip()\n",
    "    \n",
    "    response = canonicalizeAddress(scrape_address)[0]\n",
    "    \n",
    "    address={}\n",
    "    address['address_line1'] = str(response['address_info']['address'])\n",
    "    address['city'] = str(response['address_info']['city'])\n",
    "    address['zipcode'] = str(response['address_info']['zipcode'])\n",
    "    address['state'] = str(response['address_info']['state'])\n",
    "    address['unit'] = str(response['address_info']['unit'])\n",
    "    address['lat'] = str(response['address_info']['lat'])\n",
    "    address['lon'] = str(response['address_info']['lng'])\n",
    "    address['slug'] = str(response['address_info']['slug'])\n",
    "    print response\n",
    "    \n",
    "    \n",
    "    try: \n",
    "        if str(response['address_info']['status']['details'][0])=='Address fully verified':\n",
    "            print \"verified address with house canary API\"\n",
    "        else:\n",
    "            print 'error for address %s %s %s' % (address['address_line1'],address['city'],address['state'])\n",
    "            \n",
    "    except:\n",
    "        print 'error for address %s %s %s' % (address['address_line1'],address['city'],address['state'])\n",
    "\n",
    "        \n",
    "    \n",
    "\n",
    "    \n",
    "    listing_data = {}\n",
    "    listing_data['num_bedrooms'] = int(homesoup.find_all('span',class_='listing-detail-beds-val')[0].text.strip())\n",
    "    listing_data['num_bathrooms'] = int(homesoup.find_all('span',class_='listing-detail-baths-val')[0].text.strip())\n",
    "    listing_data['building_area_sq_ft'] = int(homesoup.find_all('span',class_='listing-detail-sqft-val')[0].text.strip().replace(',',''))\n",
    "    listing_data['list_price'] = int(homesoup.find_all('span',class_='listing-detail-price-amount  pad-half-right')[0].text.strip().replace(',',''))\n",
    "    \n",
    "    features = {}\n",
    "    try:\n",
    "        features['MLS'] = int(homesoup.find_all('li',attrs={'hmsitemprop':'MLSNumber'})[0].text.strip())\n",
    "    except:\n",
    "        features['MLS'] = None\n",
    "    features['is_foreclosure'] = str(house_soup.find_all('li',attrs={'hmsitemprop':'IsForeclosure'})[0].text.strip()) == 'True'\n",
    "    try:\n",
    "        features['desc'] = homesoup.find_all('p',class_=\"listing-bio\")[0].text.strip()\n",
    "    except:\n",
    "        features['desc'] = None\n",
    "    features['year_built'] = findNestedInfo(homesoup,'Year Built')\n",
    "    \n",
    "    try:\n",
    "        school_score = getAverageSchoolRating(homesoup,address['lat'],address['lon'],address['zipcode'])\n",
    "    except:\n",
    "        school_score = None\n",
    "    \n",
    "    features['school_score'] = school_score\n",
    "    \n",
    "    \n",
    "    \n",
    "    \n",
    "    \n",
    "    \n",
    "    \n",
    "    images={}\n",
    "    images['img_urls'] = pullImageURLSFromSlideshow(homesoup)\n",
    "    \n",
    "    home_dict = {}\n",
    "    home_dict['scrape_address'] = scrape_address\n",
    "    home_dict['address'] = address\n",
    "    home_dict['listing_data'] = listing_data\n",
    "    home_dict['images'] = images\n",
    "    home_dict['features'] = features\n",
    "    \n",
    "    \n",
    "    \n",
    "    return home_dict\n",
    "    "
   ]
  },
  {
   "cell_type": "code",
   "execution_count": 10,
   "metadata": {
    "collapsed": false
   },
   "outputs": [
    {
     "data": {
      "text/plain": [
       "u'https://leadingedge-northcarolina.remax.com/realestatehomesforsale/2100-shadyview-drive-charlotte-nc-28210-id305413655.html'"
      ]
     },
     "execution_count": 10,
     "metadata": {},
     "output_type": "execute_result"
    }
   ],
   "source": [
    "remax_urls[1]"
   ]
  },
  {
   "cell_type": "code",
   "execution_count": 295,
   "metadata": {
    "collapsed": false
   },
   "outputs": [],
   "source": [
    "char = BeautifulSoup(get('https://executive6-northcarolina.remax.com/realestatehomesforsale/6823-olde-sycamore-drive-mint-hill-nc-28227-gid400015464390.html').text,'html.parser')"
   ]
  },
  {
   "cell_type": "code",
   "execution_count": 18,
   "metadata": {
    "collapsed": false
   },
   "outputs": [
    {
     "name": "stdout",
     "output_type": "stream",
     "text": [
      "{u'address_info': {u'status': {u'changes': [], u'errors': [], u'requested_item': {u'city': u'Charlotte', u'state': u'NC', u'zipcode': u'28226', u'address': u'4914 Dawnridge Drive'}, u'details': [u'Address fully verified'], u'match': True}, u'city': u'Charlotte', u'county_fips': u'37119', u'geo_precision': u'rooftop', u'block_id': u'371190030083005', u'zipcode': u'28226', u'slug': u'4914-Dawnridge-Dr-Charlotte-NC-28226', u'address_full': u'4914 Dawnridge Dr Charlotte NC 28226', u'zipcode_plus4': u'8088', u'state': u'NC', u'metrodiv': None, u'unit': None, u'address': u'4914 Dawnridge Dr', u'lat': 35.09606, u'lng': -80.83135, u'blockgroup_id': u'371190030083', u'msa': u'16740'}, u'property/geocode': {u'api_code_description': u'ok', u'api_code': 0, u'result': True}}\n",
      "verified address with house canary API\n"
     ]
    }
   ],
   "source": [
    "pool=pullHomeData('https://executive1-northcarolina.remax.com/realestatehomesforsale/4914-dawnridge-drive-charlotte-nc-28226-gid400015487345.html')"
   ]
  },
  {
   "cell_type": "code",
   "execution_count": 302,
   "metadata": {
    "collapsed": false
   },
   "outputs": [
    {
     "data": {
      "text/plain": [
       "True"
      ]
     },
     "execution_count": 302,
     "metadata": {},
     "output_type": "execute_result"
    }
   ],
   "source": [
    "'pool' in pool['features']['desc']"
   ]
  },
  {
   "cell_type": "code",
   "execution_count": null,
   "metadata": {
    "collapsed": true
   },
   "outputs": [],
   "source": []
  },
  {
   "cell_type": "code",
   "execution_count": null,
   "metadata": {
    "collapsed": true
   },
   "outputs": [],
   "source": []
  },
  {
   "cell_type": "code",
   "execution_count": null,
   "metadata": {
    "collapsed": true
   },
   "outputs": [],
   "source": []
  },
  {
   "cell_type": "code",
   "execution_count": 15,
   "metadata": {
    "collapsed": false
   },
   "outputs": [
    {
     "data": {
      "text/plain": [
       "u'1,562'"
      ]
     },
     "execution_count": 15,
     "metadata": {},
     "output_type": "execute_result"
    }
   ],
   "source": [
    "house_soup.find_all('span',class_='listing-detail-sqft-val')[0].text.strip()"
   ]
  },
  {
   "cell_type": "code",
   "execution_count": 16,
   "metadata": {
    "collapsed": false
   },
   "outputs": [
    {
     "data": {
      "text/plain": [
       "1562"
      ]
     },
     "execution_count": 16,
     "metadata": {},
     "output_type": "execute_result"
    }
   ],
   "source": [
    "int(house_soup.find_all('span',class_='listing-detail-sqft-val')[0].text.strip().replace(',',''))"
   ]
  },
  {
   "cell_type": "code",
   "execution_count": 12,
   "metadata": {
    "collapsed": true
   },
   "outputs": [],
   "source": [
    "def pullImageURLSFromSlideshow(soup):\n",
    "    \"\"\"\n",
    "    soup: [bs4 soup object]  the soup object of the website that we are going to be scraping from.\n",
    "    \n",
    "    returns: [list] a list of urls of images of the house of a given webpage\n",
    "    \"\"\"\n",
    "    imglist = []\n",
    "    for noodle in soup.find_all('figure',class_='figure figure__slideshow'):\n",
    "        if len(noodle) == 3:\n",
    "            imglist.append(noodle['data-href'])\n",
    "    return imglist"
   ]
  },
  {
   "cell_type": "code",
   "execution_count": 33,
   "metadata": {
    "collapsed": false
   },
   "outputs": [
    {
     "data": {
      "text/plain": [
       "u'https://cdn-4.eneighborhoods.com/x2/@v=-242405177@/130/9/932/3352932/3352932_2.jpg'"
      ]
     },
     "execution_count": 33,
     "metadata": {},
     "output_type": "execute_result"
    }
   ],
   "source": [
    "house_soup.find_all('figure', class_='figure figure__slideshow')[2]['data-href']"
   ]
  },
  {
   "cell_type": "code",
   "execution_count": 35,
   "metadata": {
    "collapsed": false
   },
   "outputs": [
    {
     "data": {
      "text/plain": [
       "[u'https://cdn-4.eneighborhoods.com/x2/@v=-239259449@/130/9/932/3352932/3352932_1.jpg',\n",
       " u'https://cdn-4.eneighborhoods.com/x2/@v=-242405177@/130/9/932/3352932/3352932_2.jpg',\n",
       " u'https://cdn-4.eneighborhoods.com/x2/@v=-241356601@/130/9/932/3352932/3352932_3.jpg',\n",
       " u'https://cdn-4.eneighborhoods.com/x2/@v=-236113721@/130/9/932/3352932/3352932_4.jpg',\n",
       " u'https://cdn-4.eneighborhoods.com/x2/@v=-235065145@/130/9/932/3352932/3352932_5.jpg',\n",
       " u'https://cdn-4.eneighborhoods.com/x2/@v=-238210873@/130/9/932/3352932/3352932_6.jpg',\n",
       " u'https://cdn-4.eneighborhoods.com/x2/@v=-237162297@/130/9/932/3352932/3352932_7.jpg',\n",
       " u'https://cdn-4.eneighborhoods.com/x2/@v=-248696633@/130/9/932/3352932/3352932_8.jpg',\n",
       " u'https://cdn-4.eneighborhoods.com/x2/@v=-247648057@/130/9/932/3352932/3352932_9.jpg',\n",
       " u'https://cdn-4.eneighborhoods.com/x2/@v=320079634@/130/9/932/3352932/3352932_10.jpg',\n",
       " u'https://cdn-4.eneighborhoods.com/x2/@v=319031058@/130/9/932/3352932/3352932_11.jpg',\n",
       " u'https://cdn-4.eneighborhoods.com/x2/@v=322176786@/130/9/932/3352932/3352932_12.jpg',\n",
       " u'https://cdn-4.eneighborhoods.com/x2/@v=321128210@/130/9/932/3352932/3352932_13.jpg',\n",
       " u'https://cdn-4.eneighborhoods.com/x2/@v=324273938@/130/9/932/3352932/3352932_14.jpg']"
      ]
     },
     "execution_count": 35,
     "metadata": {},
     "output_type": "execute_result"
    }
   ],
   "source": [
    "pullImageURLSFromSlideshow(house_soup)"
   ]
  },
  {
   "cell_type": "code",
   "execution_count": 43,
   "metadata": {
    "collapsed": false
   },
   "outputs": [
    {
     "data": {
      "text/plain": [
       "u'3352932'"
      ]
     },
     "execution_count": 43,
     "metadata": {},
     "output_type": "execute_result"
    }
   ],
   "source": [
    "house_soup.find_all('li',attrs={'hmsitemprop':'MLSNumber'})[0].text.strip()"
   ]
  },
  {
   "cell_type": "code",
   "execution_count": 54,
   "metadata": {
    "collapsed": false
   },
   "outputs": [
    {
     "data": {
      "text/plain": [
       "False"
      ]
     },
     "execution_count": 54,
     "metadata": {},
     "output_type": "execute_result"
    }
   ],
   "source": [
    "str(house_soup.find_all('li',attrs={'hmsitemprop':'IsForeclosure'})[0].text.strip()) == 'True'"
   ]
  },
  {
   "cell_type": "code",
   "execution_count": 58,
   "metadata": {
    "collapsed": false
   },
   "outputs": [
    {
     "data": {
      "text/plain": [
       "u'Second floor unit. Open layout. Completely Renovated, Updated Bathroom,  Granite Counter Tops, New Kitchen Appliances  New Engineered Wood floors. New carpet. Screened in porch. Stone fireplace. Plenty of storage inside the unit and outside. Fridge, and washer/dryer to remain. Large MBR with his/her closets. MBA has large garden tub. Easy access to shopping, dining, and entertainment.Instructions:Lockbox/Key, Showing ServiceDirections:Located in Brandywine on Albemarle Rd... Right on Dockside, then left on Winery Ln.'"
      ]
     },
     "execution_count": 58,
     "metadata": {},
     "output_type": "execute_result"
    }
   ],
   "source": [
    "house_soup.find_all('p',class_=\"listing-bio\")[0].text.strip()"
   ]
  },
  {
   "cell_type": "code",
   "execution_count": 13,
   "metadata": {
    "collapsed": false
   },
   "outputs": [],
   "source": [
    "def findNestedInfo(soup,info):\n",
    "    \"\"\"\n",
    "    soup: [bs4 soup obj] the soup obj of webpage to scrape\n",
    "    \n",
    "    returns: [int] year the house was built\n",
    "    \n",
    "    \"\"\"\n",
    "\n",
    "    for idx, noodle in enumerate(house_soup.find_all('dt',class_='listing-detail-stats-main-key')):\n",
    "        if info in noodle.text.strip():\n",
    "            data = house_soup.find_all('dd',class_=\"listing-detail-stats-main-val\")[idx]\n",
    "            data= data.text.strip()\n",
    "    return data"
   ]
  },
  {
   "cell_type": "code",
   "execution_count": 87,
   "metadata": {
    "collapsed": false
   },
   "outputs": [
    {
     "data": {
      "text/plain": [
       "u'1982'"
      ]
     },
     "execution_count": 87,
     "metadata": {},
     "output_type": "execute_result"
    }
   ],
   "source": [
    "house_soup.find_all('dd',class_=\"listing-detail-stats-main-val\")[6].text.strip()"
   ]
  },
  {
   "cell_type": "code",
   "execution_count": 95,
   "metadata": {
    "collapsed": true
   },
   "outputs": [],
   "source": [
    "test_url = 'https://www.remax.com/realestatehomesforsale/durham-nc-p001.html'\n",
    "test_soup = BeautifulSoup(get(test_url).text,'html.parser')"
   ]
  },
  {
   "cell_type": "code",
   "execution_count": 97,
   "metadata": {
    "collapsed": false
   },
   "outputs": [],
   "source": [
    "durham= findReMaxURLS(test_soup)"
   ]
  },
  {
   "cell_type": "code",
   "execution_count": 218,
   "metadata": {
    "collapsed": false
   },
   "outputs": [
    {
     "ename": "NameError",
     "evalue": "global name 'requests' is not defined",
     "output_type": "error",
     "traceback": [
      "\u001b[1;31m---------------------------------------------------------------------------\u001b[0m",
      "\u001b[1;31mNameError\u001b[0m                                 Traceback (most recent call last)",
      "\u001b[1;32m<ipython-input-218-233ac424c8cd>\u001b[0m in \u001b[0;36m<module>\u001b[1;34m()\u001b[0m\n\u001b[1;32m----> 1\u001b[1;33m \u001b[0mpullHomeData\u001b[0m\u001b[1;33m(\u001b[0m\u001b[0mdurham\u001b[0m\u001b[1;33m[\u001b[0m\u001b[1;36m4\u001b[0m\u001b[1;33m]\u001b[0m\u001b[1;33m)\u001b[0m\u001b[1;33m\u001b[0m\u001b[0m\n\u001b[0m",
      "\u001b[1;32m<ipython-input-217-924420c97c0d>\u001b[0m in \u001b[0;36mpullHomeData\u001b[1;34m(home_url)\u001b[0m\n\u001b[0;32m     58\u001b[0m     \u001b[0maddress\u001b[0m\u001b[1;33m[\u001b[0m\u001b[1;34m'zipcode'\u001b[0m\u001b[1;33m]\u001b[0m  \u001b[1;33m=\u001b[0m \u001b[0mhomesoup\u001b[0m\u001b[1;33m.\u001b[0m\u001b[0mfind_all\u001b[0m\u001b[1;33m(\u001b[0m\u001b[1;34m'li'\u001b[0m\u001b[1;33m,\u001b[0m\u001b[0mattrs\u001b[0m\u001b[1;33m=\u001b[0m\u001b[1;33m{\u001b[0m\u001b[1;34m'hmsitemprop'\u001b[0m\u001b[1;33m:\u001b[0m\u001b[1;34m'Zip'\u001b[0m\u001b[1;33m}\u001b[0m\u001b[1;33m)\u001b[0m\u001b[1;33m[\u001b[0m\u001b[1;36m0\u001b[0m\u001b[1;33m]\u001b[0m\u001b[1;33m.\u001b[0m\u001b[0mtext\u001b[0m\u001b[1;33m.\u001b[0m\u001b[0mstrip\u001b[0m\u001b[1;33m(\u001b[0m\u001b[1;33m)\u001b[0m\u001b[1;33m\u001b[0m\u001b[0m\n\u001b[0;32m     59\u001b[0m \u001b[1;33m\u001b[0m\u001b[0m\n\u001b[1;32m---> 60\u001b[1;33m     \u001b[0mresponse\u001b[0m \u001b[1;33m=\u001b[0m \u001b[0mcanonicalizeAddress\u001b[0m\u001b[1;33m(\u001b[0m\u001b[0maddress\u001b[0m\u001b[1;33m)\u001b[0m\u001b[1;33m\u001b[0m\u001b[0m\n\u001b[0m\u001b[0;32m     61\u001b[0m     \u001b[1;32mprint\u001b[0m \u001b[0mresponse\u001b[0m\u001b[1;33m\u001b[0m\u001b[0m\n\u001b[0;32m     62\u001b[0m \u001b[1;33m\u001b[0m\u001b[0m\n",
      "\u001b[1;32m<ipython-input-216-2b131298bc0d>\u001b[0m in \u001b[0;36mcanonicalizeAddress\u001b[1;34m(remax_address_dict)\u001b[0m\n\u001b[0;32m     26\u001b[0m     }\n\u001b[0;32m     27\u001b[0m     \u001b[0mgeocode_url\u001b[0m \u001b[1;33m=\u001b[0m \u001b[1;34m'https://api.housecanary.com/v2/property/geocode'\u001b[0m\u001b[1;33m\u001b[0m\u001b[0m\n\u001b[1;32m---> 28\u001b[1;33m     \u001b[0mresponse\u001b[0m \u001b[1;33m=\u001b[0m \u001b[0mrequests\u001b[0m\u001b[1;33m.\u001b[0m\u001b[0mget\u001b[0m\u001b[1;33m(\u001b[0m\u001b[0mgeocode_url\u001b[0m\u001b[1;33m,\u001b[0m \u001b[0mparams\u001b[0m\u001b[1;33m=\u001b[0m\u001b[0mparams\u001b[0m\u001b[1;33m,\u001b[0m \u001b[0mauth\u001b[0m\u001b[1;33m=\u001b[0m\u001b[1;33m(\u001b[0m\u001b[0mhc_key\u001b[0m\u001b[1;33m,\u001b[0m \u001b[0mhc_secret\u001b[0m\u001b[1;33m)\u001b[0m\u001b[1;33m)\u001b[0m\u001b[1;33m\u001b[0m\u001b[0m\n\u001b[0m\u001b[0;32m     29\u001b[0m     \u001b[1;32mreturn\u001b[0m \u001b[0mresponse\u001b[0m\u001b[1;33m\u001b[0m\u001b[0m\n\u001b[0;32m     30\u001b[0m \u001b[1;33m\u001b[0m\u001b[0m\n",
      "\u001b[1;31mNameError\u001b[0m: global name 'requests' is not defined"
     ]
    }
   ],
   "source": [
    "pullHomeData(durham[4])"
   ]
  },
  {
   "cell_type": "code",
   "execution_count": 100,
   "metadata": {
    "collapsed": false
   },
   "outputs": [
    {
     "data": {
      "text/plain": [
       "u'https://leadingedge-northcarolina.remax.com/realestatehomesforsale/207-edward-street-durham-nc-27701-gid400014629847.html'"
      ]
     },
     "execution_count": 100,
     "metadata": {},
     "output_type": "execute_result"
    }
   ],
   "source": [
    "durham[4]"
   ]
  },
  {
   "cell_type": "code",
   "execution_count": 14,
   "metadata": {
    "collapsed": false
   },
   "outputs": [],
   "source": [
    "def getAverageSchoolRating(soup,lat,lon,zipcode,radius=5):\n",
    "    \"\"\"\n",
    "    this querys the remax API endpoint and \n",
    "    \n",
    "    inputs\n",
    "    soup: [bs4 soup object] soup object of webpage for home we are scraping\n",
    "    \n",
    "    -\n",
    "    output\n",
    "    returns [int] an integer of how good the school is, on a scale of 0 to 100\n",
    "    A+ 100\n",
    "    A 95\n",
    "    A- 91\n",
    "    B+ 88\n",
    "    B 85\n",
    "    B- 81\n",
    "    C+ 78\n",
    "    C 75\n",
    "    C- 71\n",
    "    D+ 68\n",
    "    D 65\n",
    "    D- 61\n",
    "    F 50\n",
    "    \n",
    "    this rating excludes and schools that have an 'N/A' rating in the average\n",
    "    \n",
    "    \n",
    "    \"\"\"\n",
    "    siteID = findSiteID(soup) #this global function is defined elsewhere in the program\n",
    "    \n",
    "    API_call_BASE = \"https://leadingedge-northcarolina.remax.com/api/homefacts/\"\n",
    "\n",
    "    \n",
    "    API_call = API_call_BASE + '?&radius={}&lat={}&long={}&schoolspergrades=true&zipcode={}'.format(str(radius),str(lat),str(lon),str(zipcode))\n",
    "    \n",
    "    response = get(API_call)\n",
    "    response.raise_for_status()\n",
    "    \n",
    "    home_stats = response.json()\n",
    "    \n",
    "    school_grade = 0\n",
    "    count=0\n",
    "    for idx, school in enumerate(home_stats['HFSchools']):\n",
    "        gradestr = school['SchoolGrade']\n",
    "        if gradestr == 'Unavailable':\n",
    "            count+=1\n",
    "        else:\n",
    "            score = gradeToScore(gradestr)\n",
    "            school_grade += score\n",
    "    adj_idx = idx+1-count\n",
    "    avg_school_score = float(school_grade)/float(adj_idx)\n",
    "    \n",
    "    \n",
    "    \n",
    "    return avg_school_score\n",
    "    \n",
    "    "
   ]
  },
  {
   "cell_type": "code",
   "execution_count": 15,
   "metadata": {
    "collapsed": true
   },
   "outputs": [],
   "source": [
    "def findSiteID(soup):\n",
    "    \"\"\"\n",
    "    when given a soup object, finds the siteID if one is on the page and returns that.\n",
    "    \n",
    "    input\n",
    "    soup [bs4 soup object] the bs4 soup object for the page we are scraping\n",
    "    \n",
    "    returns siteID [int] the siteID and makes sure it's the correct length \n",
    "    \n",
    "    \"\"\"\n",
    "    siteID = int(soup.text[soup.text.strip().find('siteid')+18:soup.text.strip().find('siteid')+26])\n",
    "    return siteID"
   ]
  },
  {
   "cell_type": "code",
   "execution_count": 184,
   "metadata": {
    "collapsed": false
   },
   "outputs": [],
   "source": [
    "test3 = BeautifulSoup(get(remax_urls[5]).text,'html.parser')"
   ]
  },
  {
   "cell_type": "code",
   "execution_count": 211,
   "metadata": {
    "collapsed": false
   },
   "outputs": [],
   "source": [
    "score=getAverageSchoolRating(test3)"
   ]
  },
  {
   "cell_type": "code",
   "execution_count": 212,
   "metadata": {
    "collapsed": false
   },
   "outputs": [
    {
     "data": {
      "text/plain": [
       "80.0"
      ]
     },
     "execution_count": 212,
     "metadata": {},
     "output_type": "execute_result"
    }
   ],
   "source": [
    "score"
   ]
  },
  {
   "cell_type": "code",
   "execution_count": 16,
   "metadata": {
    "collapsed": true
   },
   "outputs": [],
   "source": [
    "def gradeToScore(gradestr):\n",
    "    \"\"\"\n",
    "    takes a string of the grade of a school as an input, returns a number fr 0 to 100\n",
    "    \n",
    "    input\n",
    "    gradestr: [string] string of the grade of the school pulled from the remax API\n",
    "    \n",
    "    returns school_score [float] a number fr 0 to 100 that is the converted school grade\n",
    "    \"\"\"\n",
    "    \n",
    "    \n",
    "    grade2score = {\n",
    "        'Aplus': 100,\n",
    "        'A': 95,\n",
    "        'Aminus':91,\n",
    "        'Bplus':88,\n",
    "        'B':85,\n",
    "        'Bminus':81,\n",
    "        'Cplus':78,\n",
    "        'C':75,\n",
    "        'Cminus':71,\n",
    "        'Dplus':68,\n",
    "        'D':65,\n",
    "        'Dminus':61,\n",
    "        'F':50,\n",
    "    }\n",
    "    \n",
    "    school_score = grade2score[gradestr]\n",
    "    return school_score\n",
    "    "
   ]
  },
  {
   "cell_type": "code",
   "execution_count": 213,
   "metadata": {
    "collapsed": false
   },
   "outputs": [
    {
     "data": {
      "text/plain": [
       "u'https://leadingedge-northcarolina.remax.com/realestatehomesforsale/2944-brahman-meadows-lane-charlotte-nc-28273-gid400015469703.html'"
      ]
     },
     "execution_count": 213,
     "metadata": {},
     "output_type": "execute_result"
    }
   ],
   "source": [
    "remax_urls[5]"
   ]
  },
  {
   "cell_type": "code",
   "execution_count": 17,
   "metadata": {
    "collapsed": false
   },
   "outputs": [],
   "source": [
    "def canonicalizeAddress(remax_address_dict):\n",
    "    \"\"\"\n",
    "    this takes a dictionary of address data scraped from the remax website and calls the housecanary API\n",
    "    to make sure that all of the data is standardized\n",
    "    \n",
    "    input\n",
    "    \n",
    "    remax_address_dict [dict] {\n",
    "        address_line1: [string] steet number, street\n",
    "        unit: [int] (optional) unit no\n",
    "        state: [string] state, two letter abbreviation\n",
    "        zipcode: [int] - five number zipcode\n",
    "    }\n",
    "    \n",
    "    returns [dict] of street address info from the house canary API \n",
    "    \n",
    "    \"\"\"\n",
    "    hc_key = 'WVXI9291RNJY49L4ZKH5'\n",
    "    hc_secret = 'BcsFQhZ9o3Jxjexy7fXjq1G0LusBiQ2r' \n",
    "    params = {\n",
    "        \n",
    "        'address': remax_address_dict['address_line1'],\n",
    "        'state': remax_address_dict['state'],\n",
    "        'zipcode': remax_address_dict['zipcode'],\n",
    "        'city': remax_address_dict['city'],\n",
    "    }\n",
    "    geocode_url = 'https://api.housecanary.com/v2/property/geocode'\n",
    "    response = requests.get(geocode_url, params=params, auth=(hc_key, hc_secret))\n",
    "    response = response.json()\n",
    "    return response\n",
    "\n",
    "\n",
    "\n",
    "    \n",
    "    "
   ]
  },
  {
   "cell_type": "markdown",
   "metadata": {},
   "source": [
    "input\n",
    "Built 1990 or newer\n",
    "\n",
    "150-500 price range\n",
    "\n",
    "at least 3 bedrooms\n",
    "\n",
    "at least 2 bathrooms\n",
    "\n",
    "must have garage\n",
    "\n",
    "good school ratings and low crime\n",
    "\n",
    "no pools, wells, or septics\n",
    "\n",
    "located in an established subdivision"
   ]
  },
  {
   "cell_type": "code",
   "execution_count": null,
   "metadata": {
    "collapsed": true
   },
   "outputs": [],
   "source": []
  }
 ],
 "metadata": {
  "kernelspec": {
   "display_name": "Python 2",
   "language": "python",
   "name": "python2"
  },
  "language_info": {
   "codemirror_mode": {
    "name": "ipython",
    "version": 2
   },
   "file_extension": ".py",
   "mimetype": "text/x-python",
   "name": "python",
   "nbconvert_exporter": "python",
   "pygments_lexer": "ipython2",
   "version": "2.7.12"
  }
 },
 "nbformat": 4,
 "nbformat_minor": 0
}
