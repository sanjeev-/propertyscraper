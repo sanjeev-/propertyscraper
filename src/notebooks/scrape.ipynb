{
 "cells": [
  {
   "cell_type": "code",
   "execution_count": 1,
   "metadata": {
    "collapsed": false
   },
   "outputs": [
    {
     "name": "stdout",
     "output_type": "stream",
     "text": [
      "C:\\Users\\Sanjeev\\Desktop\\ribbon\\propertyscraper\\src\\remax\\utils\n"
     ]
    }
   ],
   "source": [
    "cd ../remax/utils/"
   ]
  },
  {
   "cell_type": "code",
   "execution_count": 2,
   "metadata": {
    "collapsed": false
   },
   "outputs": [],
   "source": [
    "\n",
    "from scraping_utils import *\n",
    "import remax_scrape"
   ]
  },
  {
   "cell_type": "code",
   "execution_count": 3,
   "metadata": {
    "collapsed": true
   },
   "outputs": [],
   "source": [
    "page1 = createRemaxCityURL('charlotte','nc',1)"
   ]
  },
  {
   "cell_type": "code",
   "execution_count": 4,
   "metadata": {
    "collapsed": false
   },
   "outputs": [
    {
     "data": {
      "text/plain": [
       "'https://executive3-northcarolina.remax.com/realestatehomesforsale/charlotte-nc-p001.html'"
      ]
     },
     "execution_count": 4,
     "metadata": {},
     "output_type": "execute_result"
    }
   ],
   "source": [
    "page1"
   ]
  },
  {
   "cell_type": "code",
   "execution_count": 5,
   "metadata": {
    "collapsed": false
   },
   "outputs": [
    {
     "name": "stderr",
     "output_type": "stream",
     "text": [
      "C:\\Users\\Sanjeev\\Anaconda2\\lib\\site-packages\\requests\\packages\\urllib3\\connectionpool.py:852: InsecureRequestWarning: Unverified HTTPS request is being made. Adding certificate verification is strongly advised. See: https://urllib3.readthedocs.io/en/latest/advanced-usage.html#ssl-warnings\n",
      "  InsecureRequestWarning)\n"
     ]
    }
   ],
   "source": [
    "urls = findReMaxURLS(BeautifulSoup(get(page1,verify=False).text,'html.parser'))"
   ]
  },
  {
   "cell_type": "code",
   "execution_count": 6,
   "metadata": {
    "collapsed": false
   },
   "outputs": [
    {
     "name": "stdout",
     "output_type": "stream",
     "text": [
      "https://leadingedge-northcarolina.remax.com/realestatehomesforsale/445-fenton-place-charlotte-nc-28207-gid400015426392.html\n"
     ]
    },
    {
     "name": "stderr",
     "output_type": "stream",
     "text": [
      "C:\\Users\\Sanjeev\\Anaconda2\\lib\\site-packages\\requests\\packages\\urllib3\\connectionpool.py:852: InsecureRequestWarning: Unverified HTTPS request is being made. Adding certificate verification is strongly advised. See: https://urllib3.readthedocs.io/en/latest/advanced-usage.html#ssl-warnings\n",
      "  InsecureRequestWarning)\n"
     ]
    },
    {
     "name": "stdout",
     "output_type": "stream",
     "text": [
      "{u'address_info': {u'status': {u'changes': [], u'errors': [], u'requested_item': {u'city': u'Charlotte', u'state': u'NC', u'zipcode': u'28207', u'address': u'445 Fenton Place'}, u'details': [u'Address fully verified'], u'match': True}, u'city': u'Charlotte', u'county_fips': u'37119', u'geo_precision': u'rooftop', u'block_id': u'371190028003002', u'zipcode': u'28207', u'slug': u'445-Fenton-Pl-Charlotte-NC-28207', u'address_full': u'445 Fenton Pl Charlotte NC 28207', u'zipcode_plus4': u'1917', u'state': u'NC', u'metrodiv': None, u'unit': None, u'address': u'445 Fenton Pl', u'lat': 35.20099, u'lng': -80.82232, u'blockgroup_id': u'371190028003', u'msa': u'16740'}, u'property/geocode': {u'api_code_description': u'ok', u'api_code': 0, u'result': True}}\n",
      "verified address with house canary API\n",
      "[{u'block_info': {u'block_id': u'371190028003002'}, u'block/crime': {u'api_code_description': u'ok', u'api_code': 0, u'result': {u'property': {u'incidents': 3.15887e-05, u'nation_percentile': 19, u'county_percentile': 29}, u'all': {u'incidents': 0.000229018, u'nation_percentile': 42, u'county_percentile': 46}, u'other': {u'incidents': 0.000189532, u'nation_percentile': 43, u'county_percentile': 51}, u'violent': {u'incidents': 7.8972e-06, u'nation_percentile': 7, u'county_percentile': 7}}}}]\n",
      "https://leadingedge-northcarolina.remax.com/realestatehomesforsale/929-e-35th-street-charlotte-nc-28205-id305423052.html\n"
     ]
    },
    {
     "name": "stderr",
     "output_type": "stream",
     "text": [
      "C:\\Users\\Sanjeev\\Anaconda2\\lib\\site-packages\\requests\\packages\\urllib3\\connectionpool.py:852: InsecureRequestWarning: Unverified HTTPS request is being made. Adding certificate verification is strongly advised. See: https://urllib3.readthedocs.io/en/latest/advanced-usage.html#ssl-warnings\n",
      "  InsecureRequestWarning)\n"
     ]
    },
    {
     "name": "stdout",
     "output_type": "stream",
     "text": [
      "{u'address_info': {u'status': {u'changes': [], u'errors': [], u'requested_item': {u'city': u'Charlotte', u'state': u'NC', u'zipcode': u'28205', u'address': u'929 E 35th Street'}, u'details': [u'Address fully verified'], u'match': False}, u'city': None, u'county_fips': None, u'geo_precision': u'unknown', u'block_id': None, u'zipcode': None, u'slug': None, u'address_full': None, u'zipcode_plus4': None, u'state': None, u'metrodiv': None, u'unit': None, u'address': None, u'lat': None, u'lng': None, u'blockgroup_id': None, u'msa': None}, u'property/geocode': {u'api_code_description': u'no content', u'api_code': 204, u'result': None}}\n",
      "verified address with house canary API\n",
      "{u'message': u'Missing required parameter in the query string : block_id', u'code': 400}\n",
      "https://leadingedge-northcarolina.remax.com/realestatehomesforsale/5923-carriage-oaks-drive-charlotte-nc-28262-gid400015330766.html\n"
     ]
    },
    {
     "name": "stderr",
     "output_type": "stream",
     "text": [
      "C:\\Users\\Sanjeev\\Anaconda2\\lib\\site-packages\\requests\\packages\\urllib3\\connectionpool.py:852: InsecureRequestWarning: Unverified HTTPS request is being made. Adding certificate verification is strongly advised. See: https://urllib3.readthedocs.io/en/latest/advanced-usage.html#ssl-warnings\n",
      "  InsecureRequestWarning)\n"
     ]
    },
    {
     "name": "stdout",
     "output_type": "stream",
     "text": [
      "{u'address_info': {u'status': {u'changes': [], u'errors': [], u'requested_item': {u'city': u'Charlotte', u'state': u'NC', u'zipcode': u'28262', u'address': u'5923 Carriage Oaks Drive'}, u'details': [u'Address fully verified'], u'match': True}, u'city': u'Charlotte', u'county_fips': u'37119', u'geo_precision': u'rooftop', u'block_id': u'371190055246000', u'zipcode': u'28262', u'slug': u'5923-Carriage-Oaks-Dr-Charlotte-NC-28262', u'address_full': u'5923 Carriage Oaks Dr Charlotte NC 28262', u'zipcode_plus4': u'3242', u'state': u'NC', u'metrodiv': None, u'unit': None, u'address': u'5923 Carriage Oaks Dr', u'lat': 35.28782, u'lng': -80.78333, u'blockgroup_id': u'371190055246', u'msa': u'16740'}, u'property/geocode': {u'api_code_description': u'ok', u'api_code': 0, u'result': True}}\n",
      "verified address with house canary API\n",
      "[{u'block_info': {u'block_id': u'371190055246000'}, u'block/crime': {u'api_code_description': u'ok', u'api_code': 0, u'result': {u'property': None, u'all': {u'incidents': 2.31596e-05, u'nation_percentile': 11, u'county_percentile': 7}, u'other': {u'incidents': 1.85276e-05, u'nation_percentile': 10, u'county_percentile': 7}, u'violent': {u'incidents': 4.6319e-06, u'nation_percentile': 5, u'county_percentile': 4}}}}]\n",
      "https://leadingedge-northcarolina.remax.com/realestatehomesforsale/9832-warwick-circle-charlotte-nc-28210-id305418395.html\n"
     ]
    },
    {
     "name": "stderr",
     "output_type": "stream",
     "text": [
      "C:\\Users\\Sanjeev\\Anaconda2\\lib\\site-packages\\requests\\packages\\urllib3\\connectionpool.py:852: InsecureRequestWarning: Unverified HTTPS request is being made. Adding certificate verification is strongly advised. See: https://urllib3.readthedocs.io/en/latest/advanced-usage.html#ssl-warnings\n",
      "  InsecureRequestWarning)\n"
     ]
    },
    {
     "name": "stdout",
     "output_type": "stream",
     "text": [
      "{u'address_info': {u'status': {u'changes': [], u'errors': [], u'requested_item': {u'city': u'Charlotte', u'state': u'NC', u'zipcode': u'28210', u'address': u'9832 Warwick Circle'}, u'details': [u'Address fully verified'], u'match': True}, u'city': u'Charlotte', u'county_fips': u'37119', u'geo_precision': u'rooftop', u'block_id': u'371190058282001', u'zipcode': u'28210', u'slug': u'9832-Warwick-Cir-Charlotte-NC-28210', u'address_full': u'9832 Warwick Cir Charlotte NC 28210', u'zipcode_plus4': u'7853', u'state': u'NC', u'metrodiv': None, u'unit': None, u'address': u'9832 Warwick Cir', u'lat': 35.10007, u'lng': -80.86953, u'blockgroup_id': u'371190058282', u'msa': u'16740'}, u'property/geocode': {u'api_code_description': u'ok', u'api_code': 0, u'result': True}}\n",
      "verified address with house canary API\n",
      "[{u'block_info': {u'block_id': u'371190058282001'}, u'block/crime': {u'api_code_description': u'ok', u'api_code': 0, u'result': {u'property': {u'incidents': 8.8811e-06, u'nation_percentile': 8, u'county_percentile': 8}, u'all': {u'incidents': 2.66434e-05, u'nation_percentile': 12, u'county_percentile': 8}, u'other': {u'incidents': 1.33217e-05, u'nation_percentile': 9, u'county_percentile': 5}, u'violent': {u'incidents': 4.4406e-06, u'nation_percentile': 5, u'county_percentile': 4}}}}]\n",
      "https://leadingedge-northcarolina.remax.com/realestatehomesforsale/2219-collingdale-place-charlotte-nc-28210-gid400015438686.html\n"
     ]
    },
    {
     "name": "stderr",
     "output_type": "stream",
     "text": [
      "C:\\Users\\Sanjeev\\Anaconda2\\lib\\site-packages\\requests\\packages\\urllib3\\connectionpool.py:852: InsecureRequestWarning: Unverified HTTPS request is being made. Adding certificate verification is strongly advised. See: https://urllib3.readthedocs.io/en/latest/advanced-usage.html#ssl-warnings\n",
      "  InsecureRequestWarning)\n"
     ]
    },
    {
     "name": "stdout",
     "output_type": "stream",
     "text": [
      "{u'address_info': {u'status': {u'changes': [], u'errors': [], u'requested_item': {u'city': u'Charlotte', u'state': u'NC', u'zipcode': u'28210', u'address': u'2219 Collingdale Place'}, u'details': [u'Address fully verified'], u'match': True}, u'city': u'Charlotte', u'county_fips': u'37119', u'geo_precision': u'rooftop', u'block_id': u'371190031021014', u'zipcode': u'28210', u'slug': u'2219-Collingdale-Pl-Charlotte-NC-28210', u'address_full': u'2219 Collingdale Pl Charlotte NC 28210', u'zipcode_plus4': u'3817', u'state': u'NC', u'metrodiv': None, u'unit': None, u'address': u'2219 Collingdale Pl', u'lat': 35.15132, u'lng': -80.86131, u'blockgroup_id': u'371190031021', u'msa': u'16740'}, u'property/geocode': {u'api_code_description': u'ok', u'api_code': 0, u'result': True}}\n",
      "verified address with house canary API\n",
      "[{u'block_info': {u'block_id': u'371190031021014'}, u'block/crime': {u'api_code_description': u'ok', u'api_code': 0, u'result': {u'property': None, u'all': {u'incidents': 0.000142017, u'nation_percentile': 33, u'county_percentile': 34}, u'other': {u'incidents': 0.000142017, u'nation_percentile': 37, u'county_percentile': 43}, u'violent': None}}}]\n",
      "https://leadingedge-northcarolina.remax.com/realestatehomesforsale/2100-shadyview-drive-charlotte-nc-28210-id305413655.html\n"
     ]
    },
    {
     "name": "stderr",
     "output_type": "stream",
     "text": [
      "C:\\Users\\Sanjeev\\Anaconda2\\lib\\site-packages\\requests\\packages\\urllib3\\connectionpool.py:852: InsecureRequestWarning: Unverified HTTPS request is being made. Adding certificate verification is strongly advised. See: https://urllib3.readthedocs.io/en/latest/advanced-usage.html#ssl-warnings\n",
      "  InsecureRequestWarning)\n"
     ]
    },
    {
     "name": "stdout",
     "output_type": "stream",
     "text": [
      "{u'address_info': {u'status': {u'changes': [], u'errors': [], u'requested_item': {u'city': u'Charlotte', u'state': u'NC', u'zipcode': u'28210', u'address': u'2100 Shadyview Drive'}, u'details': [u'Address fully verified'], u'match': True}, u'city': u'Charlotte', u'county_fips': u'37119', u'geo_precision': u'rooftop', u'block_id': u'371190031021017', u'zipcode': u'28210', u'slug': u'2100-Shadyview-Dr-Charlotte-NC-28210', u'address_full': u'2100 Shadyview Dr Charlotte NC 28210', u'zipcode_plus4': u'3836', u'state': u'NC', u'metrodiv': None, u'unit': None, u'address': u'2100 Shadyview Dr', u'lat': 35.14787, u'lng': -80.86303, u'blockgroup_id': u'371190031021', u'msa': u'16740'}, u'property/geocode': {u'api_code_description': u'ok', u'api_code': 0, u'result': True}}\n",
      "verified address with house canary API\n",
      "[{u'block_info': {u'block_id': u'371190031021017'}, u'block/crime': {u'api_code_description': u'ok', u'api_code': 0, u'result': {u'property': {u'incidents': 1.83769e-05, u'nation_percentile': 12, u'county_percentile': 17}, u'all': {u'incidents': 8.26959e-05, u'nation_percentile': 25, u'county_percentile': 23}, u'other': {u'incidents': 6.4319e-05, u'nation_percentile': 23, u'county_percentile': 24}, u'violent': None}}}]\n",
      "https://leadingedge-northcarolina.remax.com/realestatehomesforsale/8928-kestral-ridge-drive-charlotte-nc-28269-gid400015298918.html\n"
     ]
    },
    {
     "name": "stderr",
     "output_type": "stream",
     "text": [
      "C:\\Users\\Sanjeev\\Anaconda2\\lib\\site-packages\\requests\\packages\\urllib3\\connectionpool.py:852: InsecureRequestWarning: Unverified HTTPS request is being made. Adding certificate verification is strongly advised. See: https://urllib3.readthedocs.io/en/latest/advanced-usage.html#ssl-warnings\n",
      "  InsecureRequestWarning)\n"
     ]
    },
    {
     "name": "stdout",
     "output_type": "stream",
     "text": [
      "{u'address_info': {u'status': {u'changes': [], u'errors': [], u'requested_item': {u'city': u'Charlotte', u'state': u'NC', u'zipcode': u'28269', u'address': u'8928 Kestral Ridge Drive'}, u'details': [u'Address fully verified'], u'match': True}, u'city': u'Charlotte', u'county_fips': u'37119', u'geo_precision': u'rooftop', u'block_id': u'371190055161003', u'zipcode': u'28269', u'slug': u'8928-Kestral-Ridge-Dr-Charlotte-NC-28269', u'address_full': u'8928 Kestral Ridge Dr Charlotte NC 28269', u'zipcode_plus4': u'6166', u'state': u'NC', u'metrodiv': None, u'unit': None, u'address': u'8928 Kestral Ridge Dr', u'lat': 35.38908, u'lng': -80.77459, u'blockgroup_id': u'371190055161', u'msa': u'16740'}, u'property/geocode': {u'api_code_description': u'ok', u'api_code': 0, u'result': True}}\n",
      "verified address with house canary API\n",
      "[{u'block_info': {u'block_id': u'371190055161003'}, u'block/crime': {u'api_code_description': u'ok', u'api_code': 0, u'result': {u'property': {u'incidents': 5.8212e-06, u'nation_percentile': 6, u'county_percentile': 5}, u'all': {u'incidents': 8.44078e-05, u'nation_percentile': 25, u'county_percentile': 24}, u'other': {u'incidents': 6.40335e-05, u'nation_percentile': 23, u'county_percentile': 24}, u'violent': {u'incidents': 1.45531e-05, u'nation_percentile': 11, u'county_percentile': 13}}}}]\n",
      "https://leadingedge-northcarolina.remax.com/realestatehomesforsale/2424-silverthorn-drive-charlotte-nc-28273-gid400038106668.html\n"
     ]
    },
    {
     "name": "stderr",
     "output_type": "stream",
     "text": [
      "C:\\Users\\Sanjeev\\Anaconda2\\lib\\site-packages\\requests\\packages\\urllib3\\connectionpool.py:852: InsecureRequestWarning: Unverified HTTPS request is being made. Adding certificate verification is strongly advised. See: https://urllib3.readthedocs.io/en/latest/advanced-usage.html#ssl-warnings\n",
      "  InsecureRequestWarning)\n"
     ]
    },
    {
     "name": "stdout",
     "output_type": "stream",
     "text": [
      "{u'address_info': {u'status': {u'changes': [], u'errors': [], u'requested_item': {u'city': u'Charlotte', u'state': u'NC', u'zipcode': u'28273', u'address': u'2424 Silverthorn Drive'}, u'details': [u'Address fully verified'], u'match': True}, u'city': u'Charlotte', u'county_fips': u'37119', u'geo_precision': u'rooftop', u'block_id': u'371190059122024', u'zipcode': u'28273', u'slug': u'2424-Silverthorn-Dr-Charlotte-NC-28273', u'address_full': u'2424 Silverthorn Dr Charlotte NC 28273', u'zipcode_plus4': u'0037', u'state': u'NC', u'metrodiv': None, u'unit': None, u'address': u'2424 Silverthorn Dr', u'lat': 35.1516991, u'lng': -80.932686, u'blockgroup_id': u'371190059122', u'msa': u'16740'}, u'property/geocode': {u'api_code_description': u'ok', u'api_code': 0, u'result': True}}\n",
      "verified address with house canary API\n",
      "[{u'block_info': {u'block_id': u'371190059122024'}, u'block/crime': {u'api_code_description': u'ok', u'api_code': 0, u'result': {u'property': None, u'all': {u'incidents': 9.07407e-05, u'nation_percentile': 26, u'county_percentile': 25}, u'other': None, u'violent': {u'incidents': 9.07407e-05, u'nation_percentile': 40, u'county_percentile': 52}}}}]\n",
      "https://leadingedge-northcarolina.remax.com/realestatehomesforsale/1928-mint-street-no-8-charlotte-nc-28203-gid400015398289.html\n"
     ]
    },
    {
     "name": "stderr",
     "output_type": "stream",
     "text": [
      "C:\\Users\\Sanjeev\\Anaconda2\\lib\\site-packages\\requests\\packages\\urllib3\\connectionpool.py:852: InsecureRequestWarning: Unverified HTTPS request is being made. Adding certificate verification is strongly advised. See: https://urllib3.readthedocs.io/en/latest/advanced-usage.html#ssl-warnings\n",
      "  InsecureRequestWarning)\n"
     ]
    },
    {
     "name": "stdout",
     "output_type": "stream",
     "text": [
      "{u'address_info': {u'status': {u'changes': [u'Street pre-directional or post-directional was added or changed (ex: \"N\" to \"NW\")'], u'errors': [], u'requested_item': {u'city': u'Charlotte', u'state': u'NC', u'zipcode': u'28203', u'unit': u'Unit 8', u'address': u'1928 Mint Street'}, u'details': [u'Address fully verified'], u'match': False}, u'city': None, u'county_fips': None, u'geo_precision': u'unknown', u'block_id': None, u'zipcode': None, u'slug': None, u'address_full': None, u'zipcode_plus4': None, u'state': None, u'metrodiv': None, u'unit': None, u'address': None, u'lat': None, u'lng': None, u'blockgroup_id': None, u'msa': None}, u'property/geocode': {u'api_code_description': u'no content', u'api_code': 204, u'result': None}}\n",
      "verified address with house canary API\n",
      "{u'message': u'Missing required parameter in the query string : block_id', u'code': 400}\n",
      "https://leadingedge-northcarolina.remax.com/realestatehomesforsale/10401-balch-manor-court-charlotte-nc-28277-gid400015509177.html\n"
     ]
    },
    {
     "name": "stderr",
     "output_type": "stream",
     "text": [
      "C:\\Users\\Sanjeev\\Anaconda2\\lib\\site-packages\\requests\\packages\\urllib3\\connectionpool.py:852: InsecureRequestWarning: Unverified HTTPS request is being made. Adding certificate verification is strongly advised. See: https://urllib3.readthedocs.io/en/latest/advanced-usage.html#ssl-warnings\n",
      "  InsecureRequestWarning)\n"
     ]
    },
    {
     "name": "stdout",
     "output_type": "stream",
     "text": [
      "{u'address_info': {u'status': {u'changes': [], u'errors': [], u'requested_item': {u'city': u'Charlotte', u'state': u'NC', u'zipcode': u'28277', u'address': u'10401 Balch Manor Court'}, u'details': [u'Address fully verified'], u'match': True}, u'city': u'Charlotte', u'county_fips': u'37119', u'geo_precision': u'rooftop', u'block_id': u'371190058411006', u'zipcode': u'28277', u'slug': u'10401-Balch-Manor-Ct-Charlotte-NC-28277', u'address_full': u'10401 Balch Manor Ct Charlotte NC 28277', u'zipcode_plus4': u'5100', u'state': u'NC', u'metrodiv': None, u'unit': None, u'address': u'10401 Balch Manor Ct', u'lat': 35.04826, u'lng': -80.8346801, u'blockgroup_id': u'371190058411', u'msa': u'16740'}, u'property/geocode': {u'api_code_description': u'ok', u'api_code': 0, u'result': True}}\n",
      "verified address with house canary API\n",
      "[{u'block_info': {u'block_id': u'371190058411006'}, u'block/crime': {u'api_code_description': u'ok', u'api_code': 0, u'result': {u'property': {u'incidents': 4.7426e-06, u'nation_percentile': 5, u'county_percentile': 4}, u'all': {u'incidents': 2.84556e-05, u'nation_percentile': 13, u'county_percentile': 8}, u'other': {u'incidents': 2.08674e-05, u'nation_percentile': 11, u'county_percentile': 7}, u'violent': {u'incidents': 2.8456e-06, u'nation_percentile': 4, u'county_percentile': 2}}}}]\n",
      "https://leadingedge-northcarolina.remax.com/realestatehomesforsale/6823-olde-sycamore-drive-mint-hill-nc-28227-gid400015464390.html\n"
     ]
    },
    {
     "name": "stderr",
     "output_type": "stream",
     "text": [
      "C:\\Users\\Sanjeev\\Anaconda2\\lib\\site-packages\\requests\\packages\\urllib3\\connectionpool.py:852: InsecureRequestWarning: Unverified HTTPS request is being made. Adding certificate verification is strongly advised. See: https://urllib3.readthedocs.io/en/latest/advanced-usage.html#ssl-warnings\n",
      "  InsecureRequestWarning)\n"
     ]
    },
    {
     "name": "stdout",
     "output_type": "stream",
     "text": [
      "{u'address_info': {u'status': {u'changes': [], u'errors': [], u'requested_item': {u'city': u'Mint Hill', u'state': u'NC', u'zipcode': u'28227', u'address': u'6823 Olde Sycamore Drive'}, u'details': [u'Address fully verified'], u'match': True}, u'city': u'Mint Hill', u'county_fips': u'37119', u'geo_precision': u'rooftop', u'block_id': u'371190057142003', u'zipcode': u'28227', u'slug': u'6823-Olde-Sycamore-Dr-Mint-Hill-NC-28227', u'address_full': u'6823 Olde Sycamore Dr Mint Hill NC 28227', u'zipcode_plus4': u'5813', u'state': u'NC', u'metrodiv': None, u'unit': None, u'address': u'6823 Olde Sycamore Dr', u'lat': 35.16162, u'lng': -80.61458, u'blockgroup_id': u'371190057142', u'msa': u'16740'}, u'property/geocode': {u'api_code_description': u'ok', u'api_code': 0, u'result': True}}\n",
      "verified address with house canary API\n",
      "[{u'block_info': {u'block_id': u'371190057142003'}, u'block/crime': {u'api_code_description': u'ok', u'api_code': 0, u'result': {u'property': {u'incidents': 1.5785e-06, u'nation_percentile': 2, u'county_percentile': 1}, u'all': {u'incidents': 4.7354e-06, u'nation_percentile': 5, u'county_percentile': 2}, u'other': {u'incidents': 1.5785e-06, u'nation_percentile': 2, u'county_percentile': 0}, u'violent': {u'incidents': 1.5785e-06, u'nation_percentile': 2, u'county_percentile': 1}}}}]\n",
      "https://leadingedge-northcarolina.remax.com/realestatehomesforsale/3774-cragganmore-court-charlotte-nc-28215-gid1000004411900.html\n"
     ]
    },
    {
     "name": "stderr",
     "output_type": "stream",
     "text": [
      "C:\\Users\\Sanjeev\\Anaconda2\\lib\\site-packages\\requests\\packages\\urllib3\\connectionpool.py:852: InsecureRequestWarning: Unverified HTTPS request is being made. Adding certificate verification is strongly advised. See: https://urllib3.readthedocs.io/en/latest/advanced-usage.html#ssl-warnings\n",
      "  InsecureRequestWarning)\n"
     ]
    },
    {
     "name": "stdout",
     "output_type": "stream",
     "text": [
      "{u'address_info': {u'status': {u'changes': [], u'errors': [], u'requested_item': {u'city': u'Charlotte', u'state': u'NC', u'zipcode': u'28215', u'address': u'3774 Cragganmore Court'}, u'details': [u'Address fully verified'], u'match': True}, u'city': u'Charlotte', u'county_fips': u'37119', u'geo_precision': u'zip5', u'block_id': u'371190056192011', u'zipcode': u'28215', u'slug': u'3774-Cragganmore-Ct-Charlotte-NC-28215', u'address_full': u'3774 Cragganmore Ct Charlotte NC 28215', u'zipcode_plus4': u'7377', u'state': u'NC', u'metrodiv': None, u'unit': None, u'address': u'3774 Cragganmore Ct', u'lat': 35.2502632, u'lng': -80.6655503, u'blockgroup_id': u'371190056192', u'msa': u'16740'}, u'property/geocode': {u'api_code_description': u'ok', u'api_code': 0, u'result': True}}\n",
      "verified address with house canary API\n",
      "[{u'block_info': {u'block_id': u'371190056192011'}, u'block/crime': {u'api_code_description': u'ok', u'api_code': 0, u'result': {u'property': {u'incidents': 6.553e-06, u'nation_percentile': 6, u'county_percentile': 6}, u'all': {u'incidents': 4.73271e-05, u'nation_percentile': 18, u'county_percentile': 14}, u'other': {u'incidents': 3.05806e-05, u'nation_percentile': 14, u'county_percentile': 11}, u'violent': {u'incidents': 1.01935e-05, u'nation_percentile': 9, u'county_percentile': 9}}}}]\n",
      "https://leadingedge-northcarolina.remax.com/realestatehomesforsale/2336-wharton-lane-charlotte-nc-28270-gid400015519983.html\n"
     ]
    },
    {
     "name": "stderr",
     "output_type": "stream",
     "text": [
      "C:\\Users\\Sanjeev\\Anaconda2\\lib\\site-packages\\requests\\packages\\urllib3\\connectionpool.py:852: InsecureRequestWarning: Unverified HTTPS request is being made. Adding certificate verification is strongly advised. See: https://urllib3.readthedocs.io/en/latest/advanced-usage.html#ssl-warnings\n",
      "  InsecureRequestWarning)\n"
     ]
    },
    {
     "name": "stdout",
     "output_type": "stream",
     "text": [
      "{u'address_info': {u'status': {u'changes': [], u'errors': [], u'requested_item': {u'city': u'Charlotte', u'state': u'NC', u'zipcode': u'28270', u'address': u'2336 Wharton Lane'}, u'details': [u'Address fully verified'], u'match': True}, u'city': u'Charlotte', u'county_fips': u'37119', u'geo_precision': u'rooftop', u'block_id': u'371190058321016', u'zipcode': u'28270', u'slug': u'2336-Wharton-Ln-Charlotte-NC-28270', u'address_full': u'2336 Wharton Ln Charlotte NC 28270', u'zipcode_plus4': u'9712', u'state': u'NC', u'metrodiv': None, u'unit': None, u'address': u'2336 Wharton Ln', u'lat': 35.09847, u'lng': -80.7738, u'blockgroup_id': u'371190058321', u'msa': u'16740'}, u'property/geocode': {u'api_code_description': u'ok', u'api_code': 0, u'result': True}}\n",
      "verified address with house canary API\n",
      "[{u'block_info': {u'block_id': u'371190058321016'}, u'block/crime': {u'api_code_description': u'ok', u'api_code': 0, u'result': {u'property': {u'incidents': 1.44024e-05, u'nation_percentile': 11, u'county_percentile': 13}, u'all': {u'incidents': 6.48109e-05, u'nation_percentile': 22, u'county_percentile': 19}, u'other': {u'incidents': 4.32073e-05, u'nation_percentile': 18, u'county_percentile': 16}, u'violent': {u'incidents': 7.2012e-06, u'nation_percentile': 7, u'county_percentile': 7}}}}]\n",
      "https://leadingedge-northcarolina.remax.com/realestatehomesforsale/8426-knights-bridge-road-charlotte-nc-28210-gid400015475553.html\n"
     ]
    },
    {
     "name": "stderr",
     "output_type": "stream",
     "text": [
      "C:\\Users\\Sanjeev\\Anaconda2\\lib\\site-packages\\requests\\packages\\urllib3\\connectionpool.py:852: InsecureRequestWarning: Unverified HTTPS request is being made. Adding certificate verification is strongly advised. See: https://urllib3.readthedocs.io/en/latest/advanced-usage.html#ssl-warnings\n",
      "  InsecureRequestWarning)\n",
      "C:\\Users\\Sanjeev\\Anaconda2\\lib\\site-packages\\requests\\packages\\urllib3\\connectionpool.py:852: InsecureRequestWarning: Unverified HTTPS request is being made. Adding certificate verification is strongly advised. See: https://urllib3.readthedocs.io/en/latest/advanced-usage.html#ssl-warnings\n",
      "  InsecureRequestWarning)\n"
     ]
    },
    {
     "name": "stdout",
     "output_type": "stream",
     "text": [
      "{u'address_info': {u'status': {u'changes': [], u'errors': [], u'requested_item': {u'city': u'Charlotte', u'state': u'NC', u'zipcode': u'28210', u'address': u'8426 Knights Bridge Road'}, u'details': [u'Address fully verified'], u'match': True}, u'city': u'Charlotte', u'county_fips': u'37119', u'geo_precision': u'rooftop', u'block_id': u'371190058271000', u'zipcode': u'28210', u'slug': u'8426-Knights-Bridge-Rd-Charlotte-NC-28210', u'address_full': u'8426 Knights Bridge Rd Charlotte NC 28210', u'zipcode_plus4': u'5756', u'state': u'NC', u'metrodiv': None, u'unit': None, u'address': u'8426 Knights Bridge Rd', u'lat': 35.11608, u'lng': -80.8714401, u'blockgroup_id': u'371190058271', u'msa': u'16740'}, u'property/geocode': {u'api_code_description': u'ok', u'api_code': 0, u'result': True}}\n",
      "verified address with house canary API\n",
      "[{u'block_info': {u'block_id': u'371190058271000'}, u'block/crime': {u'api_code_description': u'ok', u'api_code': 0, u'result': {u'property': {u'incidents': 4.85765e-05, u'nation_percentile': 26, u'county_percentile': 40}, u'all': {u'incidents': 0.000582213, u'nation_percentile': 60, u'county_percentile': 70}, u'other': {u'incidents': 0.00046746, u'nation_percentile': 61, u'county_percentile': 76}, u'violent': {u'incidents': 6.61766e-05, u'nation_percentile': 33, u'county_percentile': 43}}}}]\n",
      "https://leadingedge-northcarolina.remax.com/realestatehomesforsale/4914-dawnridge-drive-charlotte-nc-28226-gid400015487345.html\n"
     ]
    },
    {
     "name": "stderr",
     "output_type": "stream",
     "text": [
      "C:\\Users\\Sanjeev\\Anaconda2\\lib\\site-packages\\requests\\packages\\urllib3\\connectionpool.py:852: InsecureRequestWarning: Unverified HTTPS request is being made. Adding certificate verification is strongly advised. See: https://urllib3.readthedocs.io/en/latest/advanced-usage.html#ssl-warnings\n",
      "  InsecureRequestWarning)\n",
      "C:\\Users\\Sanjeev\\Anaconda2\\lib\\site-packages\\requests\\packages\\urllib3\\connectionpool.py:852: InsecureRequestWarning: Unverified HTTPS request is being made. Adding certificate verification is strongly advised. See: https://urllib3.readthedocs.io/en/latest/advanced-usage.html#ssl-warnings\n",
      "  InsecureRequestWarning)\n"
     ]
    },
    {
     "name": "stdout",
     "output_type": "stream",
     "text": [
      "{u'address_info': {u'status': {u'changes': [], u'errors': [], u'requested_item': {u'city': u'Charlotte', u'state': u'NC', u'zipcode': u'28226', u'address': u'4914 Dawnridge Drive'}, u'details': [u'Address fully verified'], u'match': True}, u'city': u'Charlotte', u'county_fips': u'37119', u'geo_precision': u'rooftop', u'block_id': u'371190030083005', u'zipcode': u'28226', u'slug': u'4914-Dawnridge-Dr-Charlotte-NC-28226', u'address_full': u'4914 Dawnridge Dr Charlotte NC 28226', u'zipcode_plus4': u'8088', u'state': u'NC', u'metrodiv': None, u'unit': None, u'address': u'4914 Dawnridge Dr', u'lat': 35.09606, u'lng': -80.83135, u'blockgroup_id': u'371190030083', u'msa': u'16740'}, u'property/geocode': {u'api_code_description': u'ok', u'api_code': 0, u'result': True}}\n",
      "verified address with house canary API\n",
      "[{u'block_info': {u'block_id': u'371190030083005'}, u'block/crime': {u'api_code_description': u'ok', u'api_code': 0, u'result': {u'property': {u'incidents': 4.7812e-06, u'nation_percentile': 5, u'county_percentile': 4}, u'all': {u'incidents': 5.35493e-05, u'nation_percentile': 19, u'county_percentile': 16}, u'other': {u'incidents': 4.0162e-05, u'nation_percentile': 17, u'county_percentile': 16}, u'violent': {u'incidents': 8.6061e-06, u'nation_percentile': 8, u'county_percentile': 8}}}}]\n",
      "https://leadingedge-northcarolina.remax.com/realestatehomesforsale/6733-constitution-lane-charlotte-nc-28210-gid400015480219.html\n"
     ]
    },
    {
     "name": "stderr",
     "output_type": "stream",
     "text": [
      "C:\\Users\\Sanjeev\\Anaconda2\\lib\\site-packages\\requests\\packages\\urllib3\\connectionpool.py:852: InsecureRequestWarning: Unverified HTTPS request is being made. Adding certificate verification is strongly advised. See: https://urllib3.readthedocs.io/en/latest/advanced-usage.html#ssl-warnings\n",
      "  InsecureRequestWarning)\n"
     ]
    },
    {
     "name": "stdout",
     "output_type": "stream",
     "text": [
      "{u'address_info': {u'status': {u'changes': [], u'errors': [], u'requested_item': {u'city': u'Charlotte', u'state': u'NC', u'zipcode': u'28210', u'address': u'6733 Constitution Lane'}, u'details': [u'Address fully verified'], u'match': True}, u'city': u'Charlotte', u'county_fips': u'37119', u'geo_precision': u'rooftop', u'block_id': u'371190030115005', u'zipcode': u'28210', u'slug': u'6733-Constitution-Ln-Charlotte-NC-28210', u'address_full': u'6733 Constitution Ln Charlotte NC 28210', u'zipcode_plus4': u'4217', u'state': u'NC', u'metrodiv': None, u'unit': None, u'address': u'6733 Constitution Ln', u'lat': 35.12349, u'lng': -80.84625, u'blockgroup_id': u'371190030115', u'msa': u'16740'}, u'property/geocode': {u'api_code_description': u'ok', u'api_code': 0, u'result': True}}\n",
      "verified address with house canary API\n",
      "[{u'block_info': {u'block_id': u'371190030115005'}, u'block/crime': {u'api_code_description': u'ok', u'api_code': 0, u'result': {u'property': None, u'all': {u'incidents': 0.000116683, u'nation_percentile': 30, u'county_percentile': 30}, u'other': {u'incidents': 0.000110542, u'nation_percentile': 32, u'county_percentile': 37}, u'violent': {u'incidents': 6.1412e-06, u'nation_percentile': 6, u'county_percentile': 6}}}}]\n",
      "https://leadingedge-northcarolina.remax.com/realestatehomesforsale/210-n-church-street-no-2615-charlotte-nc-28202-id305398216.html\n"
     ]
    },
    {
     "name": "stderr",
     "output_type": "stream",
     "text": [
      "C:\\Users\\Sanjeev\\Anaconda2\\lib\\site-packages\\requests\\packages\\urllib3\\connectionpool.py:852: InsecureRequestWarning: Unverified HTTPS request is being made. Adding certificate verification is strongly advised. See: https://urllib3.readthedocs.io/en/latest/advanced-usage.html#ssl-warnings\n",
      "  InsecureRequestWarning)\n"
     ]
    },
    {
     "name": "stdout",
     "output_type": "stream",
     "text": [
      "{u'address_info': {u'status': {u'changes': [], u'errors': [], u'requested_item': {u'city': u'Charlotte', u'state': u'NC', u'zipcode': u'28202', u'unit': u'Unit 2615', u'address': u'210 N Church Street'}, u'details': [u'Address fully verified'], u'match': True}, u'city': u'Charlotte', u'county_fips': u'37119', u'geo_precision': u'rooftop', u'block_id': u'371190001003009', u'zipcode': u'28202', u'slug': u'210-N-Church-St-Unit-2615-Charlotte-NC-28202', u'address_full': u'210 N Church St Unit 2615 Charlotte NC 28202', u'zipcode_plus4': u'2386', u'state': u'NC', u'metrodiv': None, u'unit': u'Unit 2615', u'address': u'210 N Church St', u'lat': 35.22921, u'lng': -80.8421601, u'blockgroup_id': u'371190001003', u'msa': u'16740'}, u'property/geocode': {u'api_code_description': u'ok', u'api_code': 0, u'result': True}}\n",
      "verified address with house canary API\n",
      "[{u'block_info': {u'block_id': u'371190001003009'}, u'block/crime': {u'api_code_description': u'ok', u'api_code': 0, u'result': {u'property': {u'incidents': 0.000685247, u'nation_percentile': 87, u'county_percentile': 97}, u'all': {u'incidents': 0.0119127, u'nation_percentile': 97, u'county_percentile': 100}, u'other': {u'incidents': 0.00890821, u'nation_percentile': 97, u'county_percentile': 100}, u'violent': {u'incidents': 0.0023193, u'nation_percentile': 94, u'county_percentile': 99}}}}]\n",
      "https://leadingedge-northcarolina.remax.com/realestatehomesforsale/9620-littleleaf-drive-charlotte-nc-28215-gid400015386062.html\n"
     ]
    },
    {
     "name": "stderr",
     "output_type": "stream",
     "text": [
      "C:\\Users\\Sanjeev\\Anaconda2\\lib\\site-packages\\requests\\packages\\urllib3\\connectionpool.py:852: InsecureRequestWarning: Unverified HTTPS request is being made. Adding certificate verification is strongly advised. See: https://urllib3.readthedocs.io/en/latest/advanced-usage.html#ssl-warnings\n",
      "  InsecureRequestWarning)\n"
     ]
    },
    {
     "name": "stdout",
     "output_type": "stream",
     "text": [
      "{u'address_info': {u'status': {u'changes': [], u'errors': [], u'requested_item': {u'city': u'Charlotte', u'state': u'NC', u'zipcode': u'28215', u'address': u'9620 Littleleaf Drive'}, u'details': [u'Address fully verified'], u'match': True}, u'city': u'Charlotte', u'county_fips': u'37119', u'geo_precision': u'rooftop', u'block_id': u'371190056201026', u'zipcode': u'28215', u'slug': u'9620-Littleleaf-Dr-Charlotte-NC-28215', u'address_full': u'9620 Littleleaf Dr Charlotte NC 28215', u'zipcode_plus4': u'7129', u'state': u'NC', u'metrodiv': None, u'unit': None, u'address': u'9620 Littleleaf Dr', u'lat': 35.228328, u'lng': -80.682624, u'blockgroup_id': u'371190056201', u'msa': u'16740'}, u'property/geocode': {u'api_code_description': u'ok', u'api_code': 0, u'result': True}}\n",
      "verified address with house canary API\n",
      "[{u'block_info': {u'block_id': u'371190056201026'}, u'block/crime': {u'api_code_description': u'ok', u'api_code': 0, u'result': {u'property': {u'incidents': 4.47215e-05, u'nation_percentile': 25, u'county_percentile': 38}, u'all': {u'incidents': 0.000198052, u'nation_percentile': 39, u'county_percentile': 42}, u'other': {u'incidents': 0.000114998, u'nation_percentile': 33, u'county_percentile': 38}, u'violent': {u'incidents': 3.83327e-05, u'nation_percentile': 22, u'county_percentile': 30}}}}]\n",
      "https://leadingedge-northcarolina.remax.com/realestatehomesforsale/16036-arabian-mews-lane-no-133-charlotte-nc-28278-gid1000017915196.html\n"
     ]
    },
    {
     "name": "stderr",
     "output_type": "stream",
     "text": [
      "C:\\Users\\Sanjeev\\Anaconda2\\lib\\site-packages\\requests\\packages\\urllib3\\connectionpool.py:852: InsecureRequestWarning: Unverified HTTPS request is being made. Adding certificate verification is strongly advised. See: https://urllib3.readthedocs.io/en/latest/advanced-usage.html#ssl-warnings\n",
      "  InsecureRequestWarning)\n"
     ]
    },
    {
     "name": "stdout",
     "output_type": "stream",
     "text": [
      "{u'address_info': {u'status': {u'changes': [], u'errors': [], u'requested_item': {u'city': u'Charlotte', u'state': u'NC', u'zipcode': u'28278', u'unit': u'Unit 133', u'address': u'16036 Arabian Mews Lane'}, u'details': [u'Address fully verified'], u'match': False}, u'city': None, u'county_fips': None, u'geo_precision': u'unknown', u'block_id': None, u'zipcode': None, u'slug': None, u'address_full': None, u'zipcode_plus4': None, u'state': None, u'metrodiv': None, u'unit': None, u'address': None, u'lat': None, u'lng': None, u'blockgroup_id': None, u'msa': None}, u'property/geocode': {u'api_code_description': u'no content', u'api_code': 204, u'result': None}}\n",
      "verified address with house canary API\n",
      "{u'message': u'Missing required parameter in the query string : block_id', u'code': 400}\n",
      "https://leadingedge-northcarolina.remax.com/realestatehomesforsale/10620-atkins-ridge-drive-charlotte-nc-28213-gid400032611964.html\n"
     ]
    },
    {
     "name": "stderr",
     "output_type": "stream",
     "text": [
      "C:\\Users\\Sanjeev\\Anaconda2\\lib\\site-packages\\requests\\packages\\urllib3\\connectionpool.py:852: InsecureRequestWarning: Unverified HTTPS request is being made. Adding certificate verification is strongly advised. See: https://urllib3.readthedocs.io/en/latest/advanced-usage.html#ssl-warnings\n",
      "  InsecureRequestWarning)\n"
     ]
    },
    {
     "name": "stdout",
     "output_type": "stream",
     "text": [
      "{u'address_info': {u'status': {u'changes': [], u'errors': [], u'requested_item': {u'city': u'Charlotte', u'state': u'NC', u'zipcode': u'28213', u'address': u'10620 Atkins Ridge Drive'}, u'details': [u'Address fully verified'], u'match': True}, u'city': u'Charlotte', u'county_fips': u'37119', u'geo_precision': u'rooftop', u'block_id': u'371190056122000', u'zipcode': u'28213', u'slug': u'10620-Atkins-Ridge-Dr-Charlotte-NC-28213', u'address_full': u'10620 Atkins Ridge Dr Charlotte NC 28213', u'zipcode_plus4': u'4297', u'state': u'NC', u'metrodiv': None, u'unit': None, u'address': u'10620 Atkins Ridge Dr', u'lat': 35.29876, u'lng': -80.71486, u'blockgroup_id': u'371190056122', u'msa': u'16740'}, u'property/geocode': {u'api_code_description': u'ok', u'api_code': 0, u'result': True}}\n",
      "verified address with house canary API\n",
      "[{u'block_info': {u'block_id': u'371190056122000'}, u'block/crime': {u'api_code_description': u'ok', u'api_code': 0, u'result': {u'property': {u'incidents': 8.1572e-06, u'nation_percentile': 7, u'county_percentile': 8}, u'all': {u'incidents': 8.91468e-05, u'nation_percentile': 26, u'county_percentile': 25}, u'other': {u'incidents': 6.58405e-05, u'nation_percentile': 24, u'county_percentile': 24}, u'violent': {u'incidents': 1.51491e-05, u'nation_percentile': 11, u'county_percentile': 13}}}}]\n",
      "https://leadingedge-northcarolina.remax.com/realestatehomesforsale/9451-kings-falls-drive-charlotte-nc-28210-gid400015477138.html\n"
     ]
    },
    {
     "name": "stderr",
     "output_type": "stream",
     "text": [
      "C:\\Users\\Sanjeev\\Anaconda2\\lib\\site-packages\\requests\\packages\\urllib3\\connectionpool.py:852: InsecureRequestWarning: Unverified HTTPS request is being made. Adding certificate verification is strongly advised. See: https://urllib3.readthedocs.io/en/latest/advanced-usage.html#ssl-warnings\n",
      "  InsecureRequestWarning)\n"
     ]
    },
    {
     "name": "stdout",
     "output_type": "stream",
     "text": [
      "{u'address_info': {u'status': {u'changes': [], u'errors': [], u'requested_item': {u'city': u'Charlotte', u'state': u'NC', u'zipcode': u'28210', u'address': u'9451 Kings Falls Drive'}, u'details': [u'Address fully verified'], u'match': True}, u'city': u'Charlotte', u'county_fips': u'37119', u'geo_precision': u'rooftop', u'block_id': u'371190058281000', u'zipcode': u'28210', u'slug': u'9451-Kings-Falls-Dr-Charlotte-NC-28210', u'address_full': u'9451 Kings Falls Dr Charlotte NC 28210', u'zipcode_plus4': u'7769', u'state': u'NC', u'metrodiv': None, u'unit': None, u'address': u'9451 Kings Falls Dr', u'lat': 35.10411, u'lng': -80.8592001, u'blockgroup_id': u'371190058281', u'msa': u'16740'}, u'property/geocode': {u'api_code_description': u'ok', u'api_code': 0, u'result': True}}\n",
      "verified address with house canary API\n",
      "[{u'block_info': {u'block_id': u'371190058281000'}, u'block/crime': {u'api_code_description': u'ok', u'api_code': 0, u'result': {u'property': {u'incidents': 7.9072e-06, u'nation_percentile': 7, u'county_percentile': 7}, u'all': {u'incidents': 4.92679e-05, u'nation_percentile': 18, u'county_percentile': 15}, u'other': {u'incidents': 2.67628e-05, u'nation_percentile': 13, u'county_percentile': 10}, u'violent': {u'incidents': 1.45979e-05, u'nation_percentile': 11, u'county_percentile': 13}}}}]\n",
      "https://leadingedge-northcarolina.remax.com/realestatehomesforsale/13819-hatton-cross-drive-charlotte-nc-28278-gid400015498376.html\n"
     ]
    },
    {
     "name": "stderr",
     "output_type": "stream",
     "text": [
      "C:\\Users\\Sanjeev\\Anaconda2\\lib\\site-packages\\requests\\packages\\urllib3\\connectionpool.py:852: InsecureRequestWarning: Unverified HTTPS request is being made. Adding certificate verification is strongly advised. See: https://urllib3.readthedocs.io/en/latest/advanced-usage.html#ssl-warnings\n",
      "  InsecureRequestWarning)\n"
     ]
    },
    {
     "name": "stdout",
     "output_type": "stream",
     "text": [
      "{u'address_info': {u'status': {u'changes': [], u'errors': [], u'requested_item': {u'city': u'Charlotte', u'state': u'NC', u'zipcode': u'28278', u'address': u'13819 Hatton Cross Drive'}, u'details': [u'Address fully verified'], u'match': True}, u'city': u'Charlotte', u'county_fips': u'37119', u'geo_precision': u'rooftop', u'block_id': u'371190059112003', u'zipcode': u'28278', u'slug': u'13819-Hatton-Cross-Dr-Charlotte-NC-28278', u'address_full': u'13819 Hatton Cross Dr Charlotte NC 28278', u'zipcode_plus4': u'7825', u'state': u'NC', u'metrodiv': None, u'unit': None, u'address': u'13819 Hatton Cross Dr', u'lat': 35.08902, u'lng': -81.0009101, u'blockgroup_id': u'371190059112', u'msa': u'16740'}, u'property/geocode': {u'api_code_description': u'ok', u'api_code': 0, u'result': True}}\n",
      "verified address with house canary API\n",
      "[{u'block_info': {u'block_id': u'371190059112003'}, u'block/crime': {u'api_code_description': u'ok', u'api_code': 0, u'result': {u'property': None, u'all': {u'incidents': 0.000105029, u'nation_percentile': 29, u'county_percentile': 28}, u'other': {u'incidents': 8.59329e-05, u'nation_percentile': 28, u'county_percentile': 30}, u'violent': {u'incidents': 1.90962e-05, u'nation_percentile': 13, u'county_percentile': 16}}}}]\n",
      "https://leadingedge-northcarolina.remax.com/realestatehomesforsale/7244-winery-lane-charlotte-nc-28227-gid400015388752.html\n"
     ]
    },
    {
     "name": "stderr",
     "output_type": "stream",
     "text": [
      "C:\\Users\\Sanjeev\\Anaconda2\\lib\\site-packages\\requests\\packages\\urllib3\\connectionpool.py:852: InsecureRequestWarning: Unverified HTTPS request is being made. Adding certificate verification is strongly advised. See: https://urllib3.readthedocs.io/en/latest/advanced-usage.html#ssl-warnings\n",
      "  InsecureRequestWarning)\n"
     ]
    },
    {
     "name": "stdout",
     "output_type": "stream",
     "text": [
      "{u'address_info': {u'status': {u'changes': [], u'errors': [], u'requested_item': {u'city': u'Charlotte', u'state': u'NC', u'zipcode': u'28227', u'address': u'7244 Winery Lane'}, u'details': [u'Address fully verified'], u'match': True}, u'city': u'Charlotte', u'county_fips': u'37119', u'geo_precision': u'rooftop', u'block_id': u'371190019162004', u'zipcode': u'28227', u'slug': u'7244-Winery-Ln-Charlotte-NC-28227', u'address_full': u'7244 Winery Ln Charlotte NC 28227', u'zipcode_plus4': u'8145', u'state': u'NC', u'metrodiv': None, u'unit': None, u'address': u'7244 Winery Ln', u'lat': 35.20245, u'lng': -80.7191101, u'blockgroup_id': u'371190019162', u'msa': u'16740'}, u'property/geocode': {u'api_code_description': u'ok', u'api_code': 0, u'result': True}}\n",
      "verified address with house canary API\n",
      "[{u'block_info': {u'block_id': u'371190019162004'}, u'block/crime': {u'api_code_description': u'ok', u'api_code': 0, u'result': {u'property': {u'incidents': 0.000110002, u'nation_percentile': 46, u'county_percentile': 65}, u'all': {u'incidents': 0.000601217, u'nation_percentile': 60, u'county_percentile': 71}, u'other': {u'incidents': 0.000369834, u'nation_percentile': 56, u'county_percentile': 70}, u'violent': {u'incidents': 0.000121381, u'nation_percentile': 47, u'county_percentile': 60}}}}]\n",
      "https://leadingedge-northcarolina.remax.com/realestatehomesforsale/4308-jasmin-may-drive-charlotte-nc-28226-gid400035251635.html\n"
     ]
    },
    {
     "name": "stderr",
     "output_type": "stream",
     "text": [
      "C:\\Users\\Sanjeev\\Anaconda2\\lib\\site-packages\\requests\\packages\\urllib3\\connectionpool.py:852: InsecureRequestWarning: Unverified HTTPS request is being made. Adding certificate verification is strongly advised. See: https://urllib3.readthedocs.io/en/latest/advanced-usage.html#ssl-warnings\n",
      "  InsecureRequestWarning)\n"
     ]
    },
    {
     "name": "stdout",
     "output_type": "stream",
     "text": [
      "{u'address_info': {u'status': {u'changes': [], u'errors': [], u'requested_item': {u'city': u'Charlotte', u'state': u'NC', u'zipcode': u'28226', u'address': u'4308 Jasmin May Drive'}, u'details': [u'Address fully verified'], u'match': True}, u'city': u'Charlotte', u'county_fips': u'37119', u'geo_precision': u'rooftop', u'block_id': u'371190030171000', u'zipcode': u'28226', u'slug': u'4308-Jasmin-May-Dr-Charlotte-NC-28226', u'address_full': u'4308 Jasmin May Dr Charlotte NC 28226', u'zipcode_plus4': u'2690', u'state': u'NC', u'metrodiv': None, u'unit': None, u'address': u'4308 Jasmin May Dr', u'lat': 35.10777, u'lng': -80.79328, u'blockgroup_id': u'371190030171', u'msa': u'16740'}, u'property/geocode': {u'api_code_description': u'ok', u'api_code': 0, u'result': True}}\n",
      "verified address with house canary API\n",
      "[{u'block_info': {u'block_id': u'371190030171000'}, u'block/crime': {u'api_code_description': u'ok', u'api_code': 0, u'result': {u'property': {u'incidents': 2.38983e-05, u'nation_percentile': 15, u'county_percentile': 22}, u'all': {u'incidents': 8.96186e-05, u'nation_percentile': 26, u'county_percentile': 25}, u'other': {u'incidents': 5.37712e-05, u'nation_percentile': 21, u'county_percentile': 20}, u'violent': {u'incidents': 1.19491e-05, u'nation_percentile': 10, u'county_percentile': 11}}}}]\n"
     ]
    }
   ],
   "source": [
    "d={}\n",
    "for url in urls:\n",
    "    home = pullHomeData(url)\n",
    "    flat = flatten_dict(home)\n",
    "    slug = flat['address_slug']\n",
    "    d[slug] = flat\n"
   ]
  },
  {
   "cell_type": "code",
   "execution_count": 7,
   "metadata": {
    "collapsed": false,
    "scrolled": true
   },
   "outputs": [],
   "source": [
    "import pandas as pd\n",
    "df = pd.DataFrame.from_dict(d,orient='index')"
   ]
  },
  {
   "cell_type": "code",
   "execution_count": 8,
   "metadata": {
    "collapsed": false
   },
   "outputs": [],
   "source": [
    "import pickle"
   ]
  },
  {
   "cell_type": "code",
   "execution_count": 9,
   "metadata": {
    "collapsed": false
   },
   "outputs": [],
   "source": [
    "df.iloc[:20].to_pickle('sample.pickle')"
   ]
  },
  {
   "cell_type": "code",
   "execution_count": 10,
   "metadata": {
    "collapsed": false
   },
   "outputs": [],
   "source": [
    "df2 = pd.read_pickle('sample.pickle')"
   ]
  },
  {
   "cell_type": "code",
   "execution_count": 11,
   "metadata": {
    "collapsed": false
   },
   "outputs": [],
   "source": [
    "df.iloc[0:20].to_csv('sample.csv',encoding = 'utf-8')"
   ]
  },
  {
   "cell_type": "code",
   "execution_count": 12,
   "metadata": {
    "collapsed": false
   },
   "outputs": [
    {
     "data": {
      "text/plain": [
       "Index([u'address_lon', u'listing_data_building_area_sq_ft',\n",
       "       u'features_flooring', u'address_unit', u'listing_data_num_bedrooms',\n",
       "       u'features_floors', u'features_year_built', u'address_state',\n",
       "       u'address_address_line1', u'listing_data_num_bathrooms',\n",
       "       u'features_listing_status', u'features_interior_features',\n",
       "       u'listing_data_list_price', u'features_is_foreclosure',\n",
       "       u'features_crime_index_all', u'features_school_score',\n",
       "       u'images_img_urls', u'address_lat', u'features_num_half_bath',\n",
       "       u'features_has_septic', u'features_has_pool', u'features_days_on_site',\n",
       "       u'address_slug', u'features_start_date_on_site',\n",
       "       u'features_subdivision', u'features_crime_index_violent',\n",
       "       u'features_has_established_subdivision', u'features_has_well',\n",
       "       u'features_has_garage', u'features_no_pool_well_septic',\n",
       "       u'address_city', u'features_garage_detail', u'features_num_full_bath',\n",
       "       u'features_MLS', u'address_zipcode', u'features_desc'],\n",
       "      dtype='object')"
      ]
     },
     "execution_count": 12,
     "metadata": {},
     "output_type": "execute_result"
    }
   ],
   "source": [
    "df.columns"
   ]
  },
  {
   "cell_type": "markdown",
   "metadata": {},
   "source": [
    "address_lon: longitude (GCS coordinates)\n",
    "listing_data_building_area_sq_ft: building area in sq feet\n",
    "features_flooring: flooring description\n",
    "address_unit: unit of address, if it exists\n",
    "listing_data_num_bedrooms: number of bedrooms\n",
    "features_floors: number of floors, if info is available\n",
    "features_year_built: year built\n",
    "address_state: state (two letter abbreviation)\n",
    "address_address_line1: street and street number \n",
    "listing_data_num_bathrooms: number of bathrooms\n",
    "features_listing_status: listing status (active or not)\n",
    "features_interior_features: description of interior features, if available\n",
    "listing_data_list_price: listing price (USD)\n",
    "features_is_foreclosure: is this a foreclosure? boolean\n",
    "features_crime_index_all: national crime index of all crimes, via hc api ($0.10 per query)\n",
    "features_school_score: school score (via remax API, free)\n",
    "images_img_urls: string of img urls per house, separated by a semicolon\n",
    "address_lat: latitude (GCS coordinates)\n",
    "features_num_half_bath: number of half baths, if info is available\n",
    "features_has_septic: boolean, has septic or no (ie is sewer = city sewer)\n",
    "features_has_pool: boolean, has pool or no\n",
    "features_days_on_site: days listed on remax\n",
    "address_slug: slug (hc api)\n",
    "features_start_date_on_site: date YYYY-MM-DD (string), today minus days_on_site, ie date listed on remax\n",
    "features_subdivision: subdivision name, if it exists\n",
    "features_crime_index_violent: national crime index of *violent* crimes, via hc api($0.10 per query)\n",
    "features_has_established_subdivision: boolean, is there an established subdivision associated w home\n",
    "features_has_well: boolean, is there a well or no (ie is water = city water)\n",
    "features_has_garage: boolean, is there a garage\n",
    "features_no_pool_well_septic: boolean, are pool, well and septic all FALSE? (this is TRUE if they are all false)\n",
    "address_city: city (via hc API, free)\n",
    "features_garage_detail: if there is a garage, how many cars can fit\n",
    "features_num_full_bath: if info is available, how many of the baths are full baths (vs half baths)\n",
    "features_MLS: MLS number, if available\n",
    "address_zipcode: zipcode (via hc API, free)\n",
    "features_desc: text description of the house (using this to pull whether or not thres a pool but its a little tricky at the moment, might have to abandon it if its too unreliable)\n"
   ]
  },
  {
   "cell_type": "code",
   "execution_count": null,
   "metadata": {
    "collapsed": true
   },
   "outputs": [],
   "source": []
  }
 ],
 "metadata": {
  "kernelspec": {
   "display_name": "Python 2",
   "language": "python",
   "name": "python2"
  },
  "language_info": {
   "codemirror_mode": {
    "name": "ipython",
    "version": 2
   },
   "file_extension": ".py",
   "mimetype": "text/x-python",
   "name": "python",
   "nbconvert_exporter": "python",
   "pygments_lexer": "ipython2",
   "version": "2.7.12"
  }
 },
 "nbformat": 4,
 "nbformat_minor": 0
}
