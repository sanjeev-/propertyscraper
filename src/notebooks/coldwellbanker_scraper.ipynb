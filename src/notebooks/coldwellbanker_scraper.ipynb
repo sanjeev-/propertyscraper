{
 "cells": [
  {
   "cell_type": "code",
   "execution_count": 1,
   "metadata": {
    "collapsed": true
   },
   "outputs": [],
   "source": [
    "import os\n",
    "import sys\n",
    "from bs4 import BeautifulSoup\n",
    "from requests import get\n"
   ]
  },
  {
   "cell_type": "code",
   "execution_count": 2,
   "metadata": {
    "collapsed": true
   },
   "outputs": [],
   "source": [
    "zipcodes=[28078, 28105, 28134, 28202, 28203, 28204, 28205, 28206, 28207, 28208, 28209, 28210, 28211, 28212, 28213, 28214, 28215, 28216, 28217, 28226, 28227, 28244, 28262, 28269, 28270, 28273, 28277, 28278, 28280, 28282]"
   ]
  },
  {
   "cell_type": "code",
   "execution_count": 3,
   "metadata": {
    "collapsed": true
   },
   "outputs": [],
   "source": [
    "charlotte_URL = 'https://www.coldwellbanker.com/homes-for-sale/list/charlotte/by-city/Charlotte,NC-199/detailed'"
   ]
  },
  {
   "cell_type": "code",
   "execution_count": 4,
   "metadata": {
    "collapsed": false
   },
   "outputs": [
    {
     "data": {
      "text/plain": [
       "<html>\\n<head>\\n<style type=\"text/css\">\\n    input[type=\"submit\"] {\\n        margin: 43px 0 74px;\\n        padding: 10px 16px;\\n        line-height: 1.33;\\n        font-size: 14px;\\n        font-weight: 400;\\n        text-transform: uppercase;\\n        color: #FFF;\\n        background: #555;\\n        border: solid #555;\\n        border-width: 0 0 2px 0;\\n        border-radius: 2px;\\n        transition: all 200ms;\\n    }\\n        table table {\\n      width: 600px !important;\\n    }\\n    table div { /* logo */\\n      width: 100%;\\n      float: none;\\n      text-align: center;\\n    }\\n    table div + div { /* main content */\\n      width: 100%;\\n      float: left;\\n      text-align: left;\\n    }\\n    table div + div + div { /* trace */\\n      width: 100%;\\n      float: left;\\n      text-align: left;\\n    }\\n    table div + div + div + div { /* footer */\\n      width: 100%;\\n      float: none;\\n      clear: both;\\n      text-align: left;\\n    }\\n    @media (max-width: 630px) {\\n      table table {\\n        width: 96% !important;\\n      }\\n      table div {\\n        float: none !important;\\n        width: 100% !important;\\n      }\\n    }\\n    input[type=\"submit\"] {\\n    margin: 43px 0 74px;\\n    padding: 10px 16px;\\n    line-height: 1.33;\\n    font-size: 14px;\\n    font-weight: 400;\\n    text-transform: uppercase;\\n    color: #FFF;\\n    background: #555;\\n    border: solid #555;\\n    border-width: 0 0 2px 0;\\n    border-radius: 2px;\\n    transition: all 200ms;\\n}\\n    </style>\\n</head>\\n<body background=\"\" style=\"margin: 0; padding: 0; font-family:Arial,FreeSans,sans-serif\">\\n<table cellpadding=\"0\" cellspacing=\"0\" style=\"width: 100%; margin-top: 15%; margin-left: 0\"><tr><td style=\"padding: 12px 2%;\">\\n<table cellpadding=\"0\" cellspacing=\"0\" style=\"margin: 0 auto; width: 96%;\"><tr><td style=\"padding: 12px 2%;\">\\n<!--      <div><img src=\"http://cdn.distilnetworks.com/deployment_resources/images/theft-bot-home.png\"><br><br></div> -->\\n<div><img src=\"data:image/png;base64,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\"><br><br/></br></img></div>\\n<div>\\n<h2 style=\"margin-top: 0;\">Pardon Our Interruption</h2>\\n<p>As you were browsing, something about your browser\\n        made us think you were a bot. There are a few reasons why this might happen:</p>\\n<ul>\\n<li>You're a power user moving through this website with super-human speed</li>\\n<li>You've disabled JavaScript in your web browser</li>\\n<li>A third-party browser plugin, such as Ghostery or NoScript, is preventing JavaScript from running.\\n          Additional information is available in this <a href=\"http://ds.tl/help-third-party-plugins\" target=\"_blank\" title=\"Third party browser plugins that block javascript\">support article.</a></li>\\n</ul>\\n<p>After completing the CAPTCHA below, you will immediately regain access to the site.</p>\\n</div>\\n<div style=\"font-size: 75%\"> <form action=\"/distil_r_captcha.html?requestId=608f5d7a-a87b-433f-a420-c07169924e20&amp;httpReferrer=%2Fhomes-for-sale%2Flist%2Fcharlotte%2Fby-city%2FCharlotte,NC-199%2Fdetailed\" id=\"distilCaptchaForm\" method=\"post\">\\n<input name=\"remoteip\" type=\"hidden\" value=\"74.71.40.174\"/>\\n<noscript>\\n<iframe frameborder=\"0\" height=\"300\" src=\"https://www.google.com/recaptcha/api/noscript?k=6LdZ2MQSAAAAAF9IX_B1VAAFdIbaUO1Efzz10N3b\" width=\"930\"></iframe>\\n<textarea cols=\"40\" name=\"recaptcha_challenge_field\" rows=\"2\"></textarea>\\n<input name=\"recaptcha_response_field\" type=\"hidden\" value=\"manual_challenge\"/>\\n</noscript>\\n<script type=\"text/javascript\">\\n                    if (!RecaptchaOptions){\\n                        var RecaptchaOptions = { theme : 'blackglass' };\\n                    }\\n                </script>\\n<script src=\"https://www.google.com/recaptcha/api/challenge?k=6LdZ2MQSAAAAAF9IX_B1VAAFdIbaUO1Efzz10N3b\" type=\"text/javascript\"></script>\\n<div id=\"dCF_complete\">\\n<input id=\"dCF_input_complete\" type=\"submit\" value=\"Complete Captcha\"/>\\n</div>\\n<div id=\"dCF_captcha_text\">\\n                You reached this page when attempting to access https://www.coldwellbanker.com/homes-for-sale/list/charlotte/by-city/Charlotte,NC-199/detailed from 74.71.40.174 on 2018-01-19 20:26:44 UTC.<br/>\\n                Trace: 608f5d7a-a87b-433f-a420-c07169924e20 via 92c389f2-c27c-435b-a971-9234ae49c42c\\n            </div>\\n</form>\\n</div>\\n<div style=\"border-top: solid 1px #ccc;\">\\n<!--        <p style=\"font-size: 75%\">Contact us for assistance at <a href=\"mailto:support@example.com\">support@example.com</a></p> -->\\n</div>\\n</td></tr></table>\\n</td></tr></table>\\n<script class=\"d__inj_delayed\" defer=\"\" id=\"d__inj\" src=\"/zplabsdstlinj.js\" type=\"text/javascript\"></script><style type=\"text/css\">#d__fFH{position:absolute;top:-5000px;left:-5000px}#d__fF{font-family:serif;font-size:200px;visibility:hidden}#sadqxvyqvzwdtbscduyxuwbayetrt{display:none!important}</style></body>\\n</html>\\n"
      ]
     },
     "execution_count": 4,
     "metadata": {},
     "output_type": "execute_result"
    }
   ],
   "source": [
    "BeautifulSoup(get(charlotte_URL).text,'html.parser')"
   ]
  },
  {
   "cell_type": "code",
   "execution_count": null,
   "metadata": {
    "collapsed": true
   },
   "outputs": [],
   "source": []
  }
 ],
 "metadata": {
  "kernelspec": {
   "display_name": "Python 2",
   "language": "python",
   "name": "python2"
  },
  "language_info": {
   "codemirror_mode": {
    "name": "ipython",
    "version": 2
   },
   "file_extension": ".py",
   "mimetype": "text/x-python",
   "name": "python",
   "nbconvert_exporter": "python",
   "pygments_lexer": "ipython2",
   "version": "2.7.12"
  }
 },
 "nbformat": 4,
 "nbformat_minor": 2
}
