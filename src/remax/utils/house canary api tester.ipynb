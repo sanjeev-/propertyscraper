{
 "cells": [
  {
   "cell_type": "code",
   "execution_count": 1,
   "metadata": {
    "collapsed": true
   },
   "outputs": [],
   "source": [
    "import requests\n",
    "import pprint\n",
    "import getpass"
   ]
  },
  {
   "cell_type": "code",
   "execution_count": 2,
   "metadata": {
    "collapsed": false,
    "scrolled": true
   },
   "outputs": [
    {
     "name": "stdout",
     "output_type": "stream",
     "text": [
      "[{u'address': u'517 N Chugach St', u'zipcode': u'99645'},\n",
      " {u'address': u'12731 Schooner Dr', u'zipcode': u'99515'},\n",
      " {u'address': u'87 Misty Forest Dr', u'zipcode': u'36869'},\n",
      " {u'address': u'5212 Short Leaf Ln', u'zipcode': u'35071'},\n",
      " {u'address': u'209 N Highway 45', u'zipcode': u'72916'},\n",
      " {u'address': u'1207 Cardinal Rd', u'zipcode': u'72401'},\n",
      " {u'address': u'10004 E Vogel Ave', u'zipcode': u'85258'},\n",
      " {u'address': u'321 E Marlette Ave', u'zipcode': u'85012'},\n",
      " {u'address': u'4010 Martis St', u'zipcode': u'95691'},\n",
      " {u'address': u'2439 Russell St', u'zipcode': u'94705'},\n",
      " {u'address': u'5647 Calgary St', u'zipcode': u'80547'},\n",
      " {u'address': u'6823 Ridgeway Cir', u'zipcode': u'80134'},\n",
      " {u'address': u'4 Northbridge', u'zipcode': u'06416'},\n",
      " {u'address': u'66 Fairfield St', u'zipcode': u'06515'},\n",
      " {u'address': u'3367 18th St NW', u'zipcode': u'20010'},\n",
      " {u'address': u'4806 7th St NE', u'zipcode': u'20017'},\n",
      " {u'address': u'18 Old Fence Ln', u'zipcode': u'19702'},\n",
      " {u'address': u'2846 Leipsic Rd', u'zipcode': u'19901'},\n",
      " {u'address': u'8691 Flowersong Cv', u'zipcode': u'33473'},\n",
      " {u'address': u'813 27th Street Ct E', u'zipcode': u'34208'},\n",
      " {u'address': u'602 E 50th St', u'zipcode': u'31405'},\n",
      " {u'address': u'313 E Hobson St', u'zipcode': u'31791'},\n",
      " {u'address': u'679 S Kihei Rd Apt A204', u'zipcode': u'96753'},\n",
      " {u'address': u'86-228 Moelua St', u'zipcode': u'96792'},\n",
      " {u'address': u'107 N 3rd St', u'zipcode': u'50629'},\n",
      " {u'address': u'33895 115th St', u'zipcode': u'51034'},\n",
      " {u'address': u'2405 5th St', u'zipcode': u'83501'},\n",
      " {u'address': u'128 N 11th Ave', u'zipcode': u'83201'},\n",
      " {u'address': u'333 N Canal St Apt 2901', u'zipcode': u'60606'},\n",
      " {u'address': u'1806 S Morgan St', u'zipcode': u'60608'},\n",
      " {u'address': u'805 S Shipley St', u'zipcode': u'47302'},\n",
      " {u'address': u'1356 Crisman Rd', u'zipcode': u'46368'},\n",
      " {u'address': u'201 Brookstone Dr', u'zipcode': u'66502'},\n",
      " {u'address': u'110 S 3rd St', u'zipcode': u'66536'},\n",
      " {u'address': u'101 Stoney Ridge Ct', u'zipcode': u'41097'},\n",
      " {u'address': u'1265 Walnut Ln', u'zipcode': u'42431'},\n",
      " {u'address': u'825 Bayou Paul Ln', u'zipcode': u'70776'},\n",
      " {u'address': u'966 Bohne Rd', u'zipcode': u'70767'},\n",
      " {u'address': u'149 Hope St', u'zipcode': u'01301'},\n",
      " {u'address': u'4 Village Dr', u'zipcode': u'01752'},\n",
      " {u'address': u'43 Andora Dr', u'zipcode': u'21921'},\n",
      " {u'address': u'2400 Beaver Crossing Rd', u'zipcode': u'21040'},\n",
      " {u'address': u'119 Torrey Rd', u'zipcode': u'04274'},\n",
      " {u'address': u'168 Brook Rd', u'zipcode': u'04105'},\n",
      " {u'address': u'3466 Erie Shore Dr', u'zipcode': u'48162'},\n",
      " {u'address': u'4647 Genesee Rd', u'zipcode': u'48446'},\n",
      " {u'address': u'2718 16th Ave S', u'zipcode': u'55407'},\n",
      " {u'address': u'902 S 10th St', u'zipcode': u'55041'},\n",
      " {u'address': u'1040 Queen Ann Dr', u'zipcode': u'65201'},\n",
      " {u'address': u'66 Linden Dr', u'zipcode': u'65737'},\n",
      " {u'address': u'134 Wade Rd', u'zipcode': u'39044'},\n",
      " {u'address': u'1331 Alamo St', u'zipcode': u'39213'},\n",
      " {u'address': u'5049 River Lakes Pkwy', u'zipcode': u'59937'},\n",
      " {u'address': u'1533 Walnut St', u'zipcode': u'59601'},\n",
      " {u'address': u'2537 Chapel Hill Rd', u'zipcode': u'27707'},\n",
      " {u'address': u'201 Aycock Ave', u'zipcode': u'28792'},\n",
      " {u'address': u'225 E Wachter Ave', u'zipcode': u'58504'},\n",
      " {u'address': u'2418 W Fallcreek Ct', u'zipcode': u'58201'},\n",
      " {u'address': u'1622 Main St', u'zipcode': u'68048'},\n",
      " {u'address': u'70 Cottonwood Dr', u'zipcode': u'68601'},\n",
      " {u'address': u'16 Thomas Ave', u'zipcode': u'03076'},\n",
      " {u'address': u'3 Legacy Dr', u'zipcode': u'03106'},\n",
      " {u'address': u'210 Sunnybrook Rd', u'zipcode': u'08007'},\n",
      " {u'address': u'135 Headley Ter', u'zipcode': u'07083'},\n",
      " {u'address': u'4221 Venetian Loop', u'zipcode': u'88011'},\n",
      " {u'address': u'4705 Skyway Ct SW', u'zipcode': u'87105'},\n",
      " {u'address': u'7904 Verde Springs Dr', u'zipcode': u'89128'},\n",
      " {u'address': u'4832 Meadow Springs Dr', u'zipcode': u'89509'},\n",
      " {u'address': u'736 Camp St', u'zipcode': u'13440'},\n",
      " {u'address': u'260 Oliver St', u'zipcode': u'14120'},\n",
      " {u'address': u'7551 Southland Dr', u'zipcode': u'44060'},\n",
      " {u'address': u'1718 Darst Ave', u'zipcode': u'45403'},\n",
      " {u'address': u'11557 SE Taylor St', u'zipcode': u'97216'},\n",
      " {u'address': u'1682 Nunnwood Ln', u'zipcode': u'97527'},\n",
      " {u'address': u'119 Brewster Way', u'zipcode': u'18301'},\n",
      " {u'address': u'114 Brandywine Dr', u'zipcode': u'15317'},\n",
      " {u'address': u'20 Mayfield Rd', u'zipcode': u'02806'},\n",
      " {u'address': u'27 Sunset Dr', u'zipcode': u'02813'},\n",
      " {u'address': u'6 Ivory Ct', u'zipcode': u'29687'},\n",
      " {u'address': u'221 S Rudolph St', u'zipcode': u'29138'},\n",
      " {u'address': u'6216 W Foxdale St', u'zipcode': u'57107'},\n",
      " {u'address': u'802 Rosilee Ln', u'zipcode': u'57701'},\n",
      " {u'address': u'355 Rayon Dr', u'zipcode': u'37138'},\n",
      " {u'address': u'3121 Highway 100', u'zipcode': u'37033'},\n",
      " {u'address': u'22905 Cielo Vis', u'zipcode': u'78255'},\n",
      " {u'address': u'126 Oak Forest Dr', u'zipcode': u'78612'},\n",
      " {u'address': u'3003 Porter Ave', u'zipcode': u'84403'},\n",
      " {u'address': u'378 E 950 N', u'zipcode': u'84074'},\n",
      " {u'address': u'1111 Oronoco St Unit 441', u'zipcode': u'22314'},\n",
      " {u'address': u'14320 Happy Hill Rd', u'zipcode': u'23831'},\n",
      " {u'address': u'216 Goose Pond Rd', u'zipcode': u'05454'},\n",
      " {u'address': u'78 Terrace St', u'zipcode': u'05602'},\n",
      " {u'address': u'1701 Trio Ln', u'zipcode': u'99362'},\n",
      " {u'address': u'1102 Fellows Dr', u'zipcode': u'98908'},\n",
      " {u'address': u'N557 Westview Dr', u'zipcode': u'53066'},\n",
      " {u'address': u'N5976 E River Rd', u'zipcode': u'54110'},\n",
      " {u'address': u'500 Watkins St', u'zipcode': u'26354'},\n",
      " {u'address': u'105 Beech Dr', u'zipcode': u'25425'},\n",
      " {u'address': u'2462 Centennial Village Dr', u'zipcode': u'82609'},\n",
      " {u'address': u'3508 Fire Side Dr', u'zipcode': u'82001'}]\n"
     ]
    }
   ],
   "source": [
    "test_key = 'WVXI9291RNJY49L4ZKH5' \n",
    "test_secret = 'BcsFQhZ9o3Jxjexy7fXjq1G0LusBiQ2r'\n",
    "\n",
    "url = 'https://api.housecanary.com/v2/property/test_addresses'\n",
    "\n",
    "response = requests.get(url, auth=(test_key, test_secret))\n",
    "\n",
    "test_addresses = response.json()\n",
    "\n",
    "pprint.pprint(test_addresses)"
   ]
  },
  {
   "cell_type": "code",
   "execution_count": 3,
   "metadata": {
    "collapsed": true
   },
   "outputs": [],
   "source": [
    "sample_address = test_addresses[0]\n",
    "\n",
    "url = 'https://api.housecanary.com/v2/property/details'\n",
    "\n",
    "params = {'address': sample_address['address'],\n",
    "          'zipcode': sample_address['zipcode']}\n",
    "\n",
    "response = requests.get(url, params=params, auth=(test_key, test_secret))\n"
   ]
  },
  {
   "cell_type": "code",
   "execution_count": 5,
   "metadata": {
    "collapsed": false,
    "scrolled": true
   },
   "outputs": [
    {
     "name": "stdout",
     "output_type": "stream",
     "text": [
      "[{u'address_info': {u'address': u'517 N Chugach St',\n",
      "                    u'address_full': u'517 N Chugach St Palmer AK 99645',\n",
      "                    u'block_id': u'021700012011011',\n",
      "                    u'blockgroup_id': u'021700012011',\n",
      "                    u'city': u'Palmer',\n",
      "                    u'county_fips': u'02170',\n",
      "                    u'geo_precision': u'rooftop',\n",
      "                    u'lat': 61.61299,\n",
      "                    u'lng': -149.10998,\n",
      "                    u'metrodiv': None,\n",
      "                    u'msa': u'11260',\n",
      "                    u'slug': u'517-N-Chugach-St-Palmer-AK-99645',\n",
      "                    u'state': u'AK',\n",
      "                    u'status': {u'changes': [u'State added or changed',\n",
      "                                             u'Locality (city, municipality) added or changed'],\n",
      "                                u'details': [u'Address fully verified'],\n",
      "                                u'errors': [],\n",
      "                                u'match': True,\n",
      "                                u'requested_item': {u'address': u'517 N Chugach St',\n",
      "                                                    u'zipcode': u'99645'}},\n",
      "                    u'unit': None,\n",
      "                    u'zipcode': u'99645',\n",
      "                    u'zipcode_plus4': u'6039'},\n",
      "  u'property/details': {u'api_code': 0,\n",
      "                        u'api_code_description': u'ok',\n",
      "                        u'result': {u'assessment': {u'apn': u'5020B02L020',\n",
      "                                                    u'assessment_year': 2016,\n",
      "                                                    u'tax_amount': 1620.64,\n",
      "                                                    u'tax_year': 2013,\n",
      "                                                    u'total_assessed_value': 163200.0},\n",
      "                                    u'property': {u'air_conditioning': None,\n",
      "                                                  u'attic': None,\n",
      "                                                  u'basement': u'no_basement',\n",
      "                                                  u'building_area_sq_ft': 1710,\n",
      "                                                  u'building_condition_score': None,\n",
      "                                                  u'building_quality_score': None,\n",
      "                                                  u'construction_type': None,\n",
      "                                                  u'exterior_walls': None,\n",
      "                                                  u'fireplace': False,\n",
      "                                                  u'full_bath_count': None,\n",
      "                                                  u'garage_parking_of_cars': 0,\n",
      "                                                  u'garage_type_parking': u'garage',\n",
      "                                                  u'heating': u'gas',\n",
      "                                                  u'heating_fuel_type': u'gas',\n",
      "                                                  u'no_of_buildings': 0,\n",
      "                                                  u'no_of_stories': None,\n",
      "                                                  u'number_of_bedrooms': 0,\n",
      "                                                  u'number_of_units': 0,\n",
      "                                                  u'partial_bath_count': None,\n",
      "                                                  u'pool': None,\n",
      "                                                  u'property_type': u'Single Family Residential',\n",
      "                                                  u'roof_cover': None,\n",
      "                                                  u'roof_type': None,\n",
      "                                                  u'sewer': u'municipal',\n",
      "                                                  u'site_area_acres': 0.24,\n",
      "                                                  u'style': None,\n",
      "                                                  u'subdivision': u'RIVERSIDE',\n",
      "                                                  u'total_bath_count': None,\n",
      "                                                  u'total_number_of_rooms': 0,\n",
      "                                                  u'water': u'municipal',\n",
      "                                                  u'year_built': 1982,\n",
      "                                                  u'zoning': None}}}}]\n"
     ]
    }
   ],
   "source": [
    "pprint.pprint(response.json())\n"
   ]
  },
  {
   "cell_type": "code",
   "execution_count": 6,
   "metadata": {
    "collapsed": true
   },
   "outputs": [],
   "source": [
    "school_url = 'https://api.housecanary.com/v2/property/school'"
   ]
  },
  {
   "cell_type": "code",
   "execution_count": 7,
   "metadata": {
    "collapsed": false
   },
   "outputs": [
    {
     "data": {
      "text/plain": [
       "{'address': u'517 N Chugach St', 'zipcode': u'99645'}"
      ]
     },
     "execution_count": 7,
     "metadata": {},
     "output_type": "execute_result"
    }
   ],
   "source": [
    "params"
   ]
  },
  {
   "cell_type": "code",
   "execution_count": 9,
   "metadata": {
    "collapsed": false
   },
   "outputs": [],
   "source": [
    "cha_params={\n",
    "    'address':'2944 Brahman Meadows Ln',\n",
    "    'zipcode':'28273'\n",
    "    \n",
    "}"
   ]
  },
  {
   "cell_type": "code",
   "execution_count": 10,
   "metadata": {
    "collapsed": true
   },
   "outputs": [],
   "source": [
    "response = requests.get(school_url, params=cha_params, auth=(test_key, test_secret))\n"
   ]
  },
  {
   "cell_type": "code",
   "execution_count": 11,
   "metadata": {
    "collapsed": false
   },
   "outputs": [
    {
     "name": "stdout",
     "output_type": "stream",
     "text": [
      "[{u'address_info': {u'address': u'2944 Brahman Meadows Ln',\n",
      "                    u'address_full': u'2944 Brahman Meadows Ln Charlotte NC 28273',\n",
      "                    u'block_id': u'371190059121045',\n",
      "                    u'blockgroup_id': u'371190059121',\n",
      "                    u'city': u'Charlotte',\n",
      "                    u'county_fips': u'37119',\n",
      "                    u'geo_precision': u'rooftop',\n",
      "                    u'lat': 35.159337,\n",
      "                    u'lng': -80.9342681,\n",
      "                    u'metrodiv': None,\n",
      "                    u'msa': u'16740',\n",
      "                    u'slug': u'2944-Brahman-Meadows-Ln-Charlotte-NC-28273',\n",
      "                    u'state': u'NC',\n",
      "                    u'status': {u'changes': [u'State added or changed',\n",
      "                                             u'Locality (city, municipality) added or changed'],\n",
      "                                u'details': [u'Address fully verified'],\n",
      "                                u'errors': [],\n",
      "                                u'match': True,\n",
      "                                u'requested_item': {u'address': u'2944 Brahman Meadows Ln',\n",
      "                                                    u'zipcode': u'28273'}},\n",
      "                    u'unit': None,\n",
      "                    u'zipcode': u'28273',\n",
      "                    u'zipcode_plus4': u'3392'},\n",
      "  u'property/school': {u'api_code': 0,\n",
      "                       u'api_code_description': u'ok',\n",
      "                       u'result': {u'school': {u'elementary': [{u'address': u'4100 GALLANT LN RT 2',\n",
      "                                                                u'assessment_year': 2014,\n",
      "                                                                u'city': u'CHARLOTTE',\n",
      "                                                                u'distance_miles': 1.5170206304,\n",
      "                                                                u'education_level': [u'elementary'],\n",
      "                                                                u'name': u'STEELE CREEK ELEMENTARY SCHOOL',\n",
      "                                                                u'phone': u'9803433810',\n",
      "                                                                u'score': 33.2,\n",
      "                                                                u'state': u'NC',\n",
      "                                                                u'verified_school_boundaries': True,\n",
      "                                                                u'zipcode': u'28273'}],\n",
      "                                               u'high': [{u'address': u'4301 SANDY PORTER ST',\n",
      "                                                          u'assessment_year': 2014,\n",
      "                                                          u'city': u'CHARLOTTE',\n",
      "                                                          u'distance_miles': 1.270190526,\n",
      "                                                          u'education_level': [u'high'],\n",
      "                                                          u'name': u'RENAISSANCE SCHOOL AT OLYMPIC HIGH SCHOOL',\n",
      "                                                          u'phone': u'9803431107',\n",
      "                                                          u'score': 57.4,\n",
      "                                                          u'state': u'NC',\n",
      "                                                          u'verified_school_boundaries': True,\n",
      "                                                          u'zipcode': u'28205'}],\n",
      "                                               u'middle': [{u'address': u'4000 GALLANT LN',\n",
      "                                                            u'assessment_year': 2013,\n",
      "                                                            u'city': u'CHARLOTTE',\n",
      "                                                            u'distance_miles': 1.5644270544,\n",
      "                                                            u'education_level': [u'middle'],\n",
      "                                                            u'name': u'KENNEDY MIDDLE SCHOOL',\n",
      "                                                            u'phone': u'9803435540',\n",
      "                                                            u'score': 20.9,\n",
      "                                                            u'state': u'NC',\n",
      "                                                            u'verified_school_boundaries': True,\n",
      "                                                            u'zipcode': u'28273'}]}}}}]\n"
     ]
    }
   ],
   "source": [
    "pprint.pprint(response.json())\n"
   ]
  },
  {
   "cell_type": "code",
   "execution_count": 1,
   "metadata": {
    "collapsed": true
   },
   "outputs": [],
   "source": [
    "import os\n",
    "import sys\n",
    "from bs4 import BeautifulSoup\n",
    "from requests import get\n",
    "import requests\n",
    "\n"
   ]
  },
  {
   "cell_type": "code",
   "execution_count": 2,
   "metadata": {
    "collapsed": true
   },
   "outputs": [],
   "source": [
    "test_url = 'https://executive1-northcarolina.remax.com/realestatehomesforsale/2424-silverthorn-drive-charlotte-nc-28273-gid400038106668.html'\n"
   ]
  },
  {
   "cell_type": "code",
   "execution_count": 3,
   "metadata": {
    "collapsed": true
   },
   "outputs": [],
   "source": [
    "test_soup = BeautifulSoup(get(test_url).text,'html.parser')"
   ]
  },
  {
   "cell_type": "code",
   "execution_count": 5,
   "metadata": {
    "collapsed": false
   },
   "outputs": [],
   "source": [
    "for idx, noodle in enumerate(test_soup.find_all('dt',class_='listing-detail-stats-main-key')):\n",
    "    if 'Sewer' in noodle.text.strip():\n",
    "        data = test+soup.find_all('dd',class_=\"listing-detail-stats-main-val\")[idx]\n",
    "        data= data.text.strip()\n"
   ]
  },
  {
   "cell_type": "code",
   "execution_count": 6,
   "metadata": {
    "collapsed": false
   },
   "outputs": [
    {
     "data": {
      "text/plain": [
       "[<dt class=\"listing-detail-stats-main-key\">\\r\\n                                Listing Type\\r\\n                            </dt>,\n",
       " <dt class=\"listing-detail-stats-main-key\">\\r\\n                                Listing ID\\r\\n                            </dt>,\n",
       " <dt class=\"listing-detail-stats-main-key\">\\r\\n                                Bedrooms\\r\\n                            </dt>,\n",
       " <dt class=\"listing-detail-stats-main-key\">\\r\\n                                Bathrooms\\r\\n                            </dt>,\n",
       " <dt class=\"listing-detail-stats-main-key\">\\r\\n                                House Size\\r\\n                            </dt>,\n",
       " <dt class=\"listing-detail-stats-main-key\">\\r\\n                                Lot Size\\r\\n                            </dt>,\n",
       " <dt class=\"listing-detail-stats-main-key\">\\r\\n                                Listing Status\\r\\n                            </dt>,\n",
       " <dt class=\"listing-detail-stats-main-key\">\\r\\n                                Year Built\\r\\n                            </dt>,\n",
       " <dt class=\"listing-detail-stats-main-key\">\\r\\n                                County\\r\\n                            </dt>,\n",
       " <dt class=\"listing-detail-stats-main-key\">\\r\\n                                Full Bath\\r\\n                            </dt>,\n",
       " <dt class=\"listing-detail-stats-main-key\">\\r\\n                                Half Bath\\r\\n                            </dt>,\n",
       " <dt class=\"listing-detail-stats-main-key\">\\r\\n                                Subdivision\\r\\n                            </dt>,\n",
       " <dt class=\"listing-detail-stats-main-key\">\\r\\n                                Floors\\r\\n                            </dt>,\n",
       " <dt class=\"listing-detail-stats-main-key\">\\r\\n                                Garage\\r\\n                            </dt>,\n",
       " <dt class=\"listing-detail-stats-main-key\">\\r\\n                                School District 1\\r\\n                            </dt>,\n",
       " <dt class=\"listing-detail-stats-main-key\">\\r\\n                                School District 2\\r\\n                            </dt>,\n",
       " <dt class=\"listing-detail-stats-main-key\">\\r\\n                                School District 3\\r\\n                            </dt>,\n",
       " <dt class=\"listing-detail-stats-main-key\">\\r\\n                                Fees\\r\\n                            </dt>]"
      ]
     },
     "execution_count": 6,
     "metadata": {},
     "output_type": "execute_result"
    }
   ],
   "source": [
    "test_soup.find_all('dt',class_='listing-detail-stats-main-key')"
   ]
  },
  {
   "cell_type": "code",
   "execution_count": 8,
   "metadata": {
    "collapsed": false
   },
   "outputs": [
    {
     "data": {
      "text/plain": [
       "[<dt class=\"listing-detail-stats-more-key\">\\r\\n                                Interior Features\\r\\n                            </dt>,\n",
       " <dt class=\"listing-detail-stats-more-key\">\\r\\n                                Flooring\\r\\n                            </dt>,\n",
       " <dt class=\"listing-detail-stats-more-key\">\\r\\n                                Water Heater\\r\\n                            </dt>,\n",
       " <dt class=\"listing-detail-stats-more-key\">\\r\\n                                Entry\\r\\n                            </dt>,\n",
       " <dt class=\"listing-detail-stats-more-key\">\\r\\n                                Laundry Location\\r\\n                            </dt>,\n",
       " <dt class=\"listing-detail-stats-more-key\">\\r\\n                                Fireplace\\r\\n                            </dt>,\n",
       " <dt class=\"listing-detail-stats-more-key\">\\r\\n                                Construction Status\\r\\n                            </dt>,\n",
       " <dt class=\"listing-detail-stats-more-key\">\\r\\n                                New Construction\\r\\n                            </dt>,\n",
       " <dt class=\"listing-detail-stats-more-key\">\\r\\n                                Condo Level\\r\\n                            </dt>,\n",
       " <dt class=\"listing-detail-stats-more-key\">\\r\\n                                Lot Features\\r\\n                            </dt>,\n",
       " <dt class=\"listing-detail-stats-more-key\">\\r\\n                                Parking\\r\\n                            </dt>,\n",
       " <dt class=\"listing-detail-stats-more-key\">\\r\\n                                Heating\\r\\n                            </dt>,\n",
       " <dt class=\"listing-detail-stats-more-key\">\\r\\n                                Sewer\\r\\n                            </dt>,\n",
       " <dt class=\"listing-detail-stats-more-key\">\\r\\n                                Water\\r\\n                            </dt>,\n",
       " <dt class=\"listing-detail-stats-more-key\">\\r\\n                                Pets Allowed\\r\\n                            </dt>,\n",
       " <dt class=\"listing-detail-stats-more-key\">\\r\\n                                Community Features\\r\\n                            </dt>,\n",
       " <dt class=\"listing-detail-stats-more-key\">\\r\\n                                Financing\\r\\n                            </dt>,\n",
       " <dt class=\"listing-detail-stats-more-key\">\\r\\n                                Special Conditions\\r\\n                            </dt>,\n",
       " <dt class=\"listing-detail-stats-more-key\">\\r\\n                                Dues Frequency\\r\\n                            </dt>,\n",
       " <dt class=\"listing-detail-stats-more-key\">\\r\\n                                Listing Type\\r\\n                            </dt>]"
      ]
     },
     "execution_count": 8,
     "metadata": {},
     "output_type": "execute_result"
    }
   ],
   "source": [
    "test_soup.find_all('dt',class_='listing-detail-stats-more-key')"
   ]
  },
  {
   "cell_type": "code",
   "execution_count": 15,
   "metadata": {
    "collapsed": false
   },
   "outputs": [],
   "source": [
    "from datetime import datetime, timedelta"
   ]
  },
  {
   "cell_type": "code",
   "execution_count": 16,
   "metadata": {
    "collapsed": false
   },
   "outputs": [],
   "source": [
    "d = datetime.today() - timedelta(days=1)"
   ]
  },
  {
   "cell_type": "code",
   "execution_count": 18,
   "metadata": {
    "collapsed": false
   },
   "outputs": [
    {
     "data": {
      "text/plain": [
       "'2018-01-21'"
      ]
     },
     "execution_count": 18,
     "metadata": {},
     "output_type": "execute_result"
    }
   ],
   "source": [
    "d.strftime('%Y-%m-%d')"
   ]
  },
  {
   "cell_type": "code",
   "execution_count": 19,
   "metadata": {
    "collapsed": false
   },
   "outputs": [
    {
     "name": "stdout",
     "output_type": "stream",
     "text": [
      " Volume in drive C is Blade Stealth\n",
      " Volume Serial Number is F47D-19FB\n",
      "\n",
      " Directory of C:\\Users\\Sanjeev\\Desktop\\ribbon\\propertyscraper\\src\\remax\\utils\n",
      "\n",
      "01/22/2018  12:09 PM    <DIR>          .\n",
      "01/22/2018  12:09 PM    <DIR>          ..\n",
      "01/21/2018  09:46 PM    <DIR>          .ipynb_checkpoints\n",
      "01/22/2018  11:59 AM            28,461 house canary api tester.ipynb\n",
      "01/22/2018  12:09 PM                28 remax_scrape.py\n",
      "01/22/2018  12:09 PM            13,972 scraping_utils.py\n",
      "01/22/2018  12:09 PM            13,567 scraping_utils.pyc\n",
      "01/21/2018  11:07 AM                 0 untitled.txt\n",
      "               5 File(s)         56,028 bytes\n",
      "               3 Dir(s)  48,431,206,400 bytes free\n"
     ]
    }
   ],
   "source": [
    "from "
   ]
  },
  {
   "cell_type": "code",
   "execution_count": 1,
   "metadata": {
    "collapsed": false
   },
   "outputs": [],
   "source": [
    "from scraping_utils import *"
   ]
  },
  {
   "cell_type": "code",
   "execution_count": 2,
   "metadata": {
    "collapsed": true
   },
   "outputs": [],
   "source": [
    "url='https://executive1-northcarolina.remax.com/realestatehomesforsale/3225-burkston-road-charlotte-nc-28269-gid400015295520.html'"
   ]
  },
  {
   "cell_type": "code",
   "execution_count": 15,
   "metadata": {
    "collapsed": false
   },
   "outputs": [
    {
     "name": "stdout",
     "output_type": "stream",
     "text": [
      "{u'address_info': {u'status': {u'changes': [], u'errors': [], u'requested_item': {u'city': u'Charlotte', u'state': u'NC', u'zipcode': u'28269', u'address': u'3225 Burkston Road'}, u'details': [u'Address fully verified'], u'match': True}, u'city': u'Charlotte', u'county_fips': u'37119', u'geo_precision': u'rooftop', u'block_id': u'371190055222012', u'zipcode': u'28269', u'slug': u'3225-Burkston-Rd-Charlotte-NC-28269', u'address_full': u'3225 Burkston Rd Charlotte NC 28269', u'zipcode_plus4': u'0126', u'state': u'NC', u'metrodiv': None, u'unit': None, u'address': u'3225 Burkston Rd', u'lat': 35.31709, u'lng': -80.7860001, u'blockgroup_id': u'371190055222', u'msa': u'16740'}, u'property/geocode': {u'api_code_description': u'ok', u'api_code': 0, u'result': True}}\n",
      "verified address with house canary API\n"
     ]
    }
   ],
   "source": [
    "home1 = pullHomeData(url)"
   ]
  },
  {
   "cell_type": "code",
   "execution_count": 4,
   "metadata": {
    "collapsed": true
   },
   "outputs": [],
   "source": [
    "import pandas as pd"
   ]
  },
  {
   "cell_type": "code",
   "execution_count": 7,
   "metadata": {
    "collapsed": true
   },
   "outputs": [],
   "source": [
    "def flatten_dict(dd, separator='_', prefix=''):\n",
    "    return { prefix + separator + k if prefix else k : v\n",
    "             for kk, vv in dd.items()\n",
    "             for k, v in flatten_dict(vv, separator, kk).items()\n",
    "             } if isinstance(dd, dict) else { prefix : dd }"
   ]
  },
  {
   "cell_type": "code",
   "execution_count": 14,
   "metadata": {
    "collapsed": false
   },
   "outputs": [],
   "source": [
    "d = flatten_dict(home)"
   ]
  },
  {
   "cell_type": "code",
   "execution_count": 19,
   "metadata": {
    "collapsed": true
   },
   "outputs": [],
   "source": [
    "url2 = 'https://executive1-northcarolina.remax.com/realestatehomesforsale/2109-rush-wind-drive-charlotte-nc-28206-gid400015356738.html'"
   ]
  },
  {
   "cell_type": "code",
   "execution_count": 20,
   "metadata": {
    "collapsed": false
   },
   "outputs": [
    {
     "name": "stdout",
     "output_type": "stream",
     "text": [
      "{u'address_info': {u'status': {u'changes': [], u'errors': [], u'requested_item': {u'city': u'Charlotte', u'state': u'NC', u'zipcode': u'28206', u'address': u'2109 Rush Wind Drive'}, u'details': [u'Address fully verified'], u'match': True}, u'city': u'Charlotte', u'county_fips': u'37119', u'geo_precision': u'rooftop', u'block_id': u'371190050001002', u'zipcode': u'28206', u'slug': u'2109-Rush-Wind-Dr-Charlotte-NC-28206', u'address_full': u'2109 Rush Wind Dr Charlotte NC 28206', u'zipcode_plus4': u'1470', u'state': u'NC', u'metrodiv': None, u'unit': None, u'address': u'2109 Rush Wind Dr', u'lat': 35.25134, u'lng': -80.84287, u'blockgroup_id': u'371190050001', u'msa': u'16740'}, u'property/geocode': {u'api_code_description': u'ok', u'api_code': 0, u'result': True}}\n",
      "verified address with house canary API\n"
     ]
    }
   ],
   "source": [
    "home2 = pullHomeData(url2)\n",
    "e = flatten_dict(home2)"
   ]
  },
  {
   "cell_type": "code",
   "execution_count": 21,
   "metadata": {
    "collapsed": true
   },
   "outputs": [
    {
     "data": {
      "text/plain": [
       "{'address_address_line1': '2109 Rush Wind Dr',\n",
       " 'address_city': 'Charlotte',\n",
       " 'address_lat': '35.25134',\n",
       " 'address_lon': '-80.84287',\n",
       " 'address_slug': '2109-Rush-Wind-Dr-Charlotte-NC-28206',\n",
       " 'address_state': 'NC',\n",
       " 'address_unit': 'None',\n",
       " 'address_zipcode': '28206',\n",
       " 'features_MLS': 3352166,\n",
       " 'features_days_on_site': 5,\n",
       " 'features_desc': u'This is a charming 2 bedroom and 2 bath house. Freshly Painted throughout with Tasteful colors, New Laminate Wood Floors and New Carpet. This house sits on two lots - LARGE Backyard.   Great Location- close to Uptown and Brightwalk and the Coming CAMP NORTH Development. Fantastic area for your investment!!',\n",
       " 'features_floors': u'1',\n",
       " 'features_garage_detail': None,\n",
       " 'features_has_driveway': True,\n",
       " 'features_has_established_subdivision': True,\n",
       " 'features_has_garage': False,\n",
       " 'features_has_pool': False,\n",
       " 'features_has_septic': False,\n",
       " 'features_has_well': False,\n",
       " 'features_is_foreclosure': False,\n",
       " 'features_listing_status': u'Active',\n",
       " 'features_no_pool_well_septic': True,\n",
       " 'features_num_full_bath': u'2',\n",
       " 'features_num_half_bath': 0,\n",
       " 'features_school_score': None,\n",
       " 'features_start_date_on_site': '2018-01-17',\n",
       " 'features_subdivision': u'Selwyn Park',\n",
       " 'features_year_built': u'1953',\n",
       " 'images_img_urls': u'https://cdn-4.eneighborhoods.com/x2/@v=-1316510869@/130/1/166/3352166/3352166_1.jpg;https://cdn-4.eneighborhoods.com/x2/@v=-1313365141@/130/1/166/3352166/3352166_2.jpg;https://cdn-4.eneighborhoods.com/x2/@v=-1314413717@/130/1/166/3352166/3352166_3.jpg;https://cdn-4.eneighborhoods.com/x2/@v=-1311267989@/130/1/166/3352166/3352166_4.jpg;https://cdn-4.eneighborhoods.com/x2/@v=-1312316565@/130/1/166/3352166/3352166_5.jpg;https://cdn-4.eneighborhoods.com/x2/@v=-1309170837@/130/1/166/3352166/3352166_6.jpg;https://cdn-4.eneighborhoods.com/x2/@v=-1310219413@/130/1/166/3352166/3352166_7.jpg;https://cdn-4.eneighborhoods.com/x2/@v=-1323850901@/130/1/166/3352166/3352166_8.jpg;https://cdn-4.eneighborhoods.com/x2/@v=-1324899477@/130/1/166/3352166/3352166_9.jpg;https://cdn-4.eneighborhoods.com/x2/@v=321264751@/130/1/166/3352166/3352166_10.jpg;https://cdn-4.eneighborhoods.com/x2/@v=322313327@/130/1/166/3352166/3352166_11.jpg;https://cdn-4.eneighborhoods.com/x2/@v=319167599@/130/1/166/3352166/3352166_12.jpg;https://cdn-4.eneighborhoods.com/x2/@v=334284523@/130/1/166/3352166/3352166_13.jpg;https://cdn-4.eneighborhoods.com/x2/@v=329041643@/130/1/166/3352166/3352166_14.jpg',\n",
       " 'listing_data_building_area_sq_ft': 1280,\n",
       " 'listing_data_list_price': 185000,\n",
       " 'listing_data_num_bathrooms': 2,\n",
       " 'listing_data_num_bedrooms': 3,\n",
       " 'scrape_address_address_line1': u'2109 Rush Wind Drive',\n",
       " 'scrape_address_city': u'Charlotte',\n",
       " 'scrape_address_state': u'NC',\n",
       " 'scrape_address_zipcode': u'28206'}"
      ]
     },
     "execution_count": 21,
     "metadata": {},
     "output_type": "execute_result"
    }
   ],
   "source": [
    "e"
   ]
  },
  {
   "cell_type": "code",
   "execution_count": 22,
   "metadata": {
    "collapsed": true
   },
   "outputs": [],
   "source": [
    "f = {'home1':d,\n",
    "    'home2':e}"
   ]
  },
  {
   "cell_type": "code",
   "execution_count": 24,
   "metadata": {
    "collapsed": false
   },
   "outputs": [
    {
     "data": {
      "text/html": [
       "<div>\n",
       "<table border=\"1\" class=\"dataframe\">\n",
       "  <thead>\n",
       "    <tr style=\"text-align: right;\">\n",
       "      <th></th>\n",
       "      <th>address_lon</th>\n",
       "      <th>listing_data_building_area_sq_ft</th>\n",
       "      <th>listing_data_list_price</th>\n",
       "      <th>address_unit</th>\n",
       "      <th>listing_data_num_bedrooms</th>\n",
       "      <th>features_floors</th>\n",
       "      <th>features_year_built</th>\n",
       "      <th>address_state</th>\n",
       "      <th>address_address_line1</th>\n",
       "      <th>scrape_address_city</th>\n",
       "      <th>...</th>\n",
       "      <th>features_has_well</th>\n",
       "      <th>features_has_garage</th>\n",
       "      <th>features_no_pool_well_septic</th>\n",
       "      <th>address_city</th>\n",
       "      <th>features_garage_detail</th>\n",
       "      <th>features_start_date_on_site</th>\n",
       "      <th>features_MLS</th>\n",
       "      <th>features_has_driveway</th>\n",
       "      <th>address_zipcode</th>\n",
       "      <th>features_desc</th>\n",
       "    </tr>\n",
       "  </thead>\n",
       "  <tbody>\n",
       "    <tr>\n",
       "      <th>home1</th>\n",
       "      <td>-80.7860001</td>\n",
       "      <td>1354</td>\n",
       "      <td>159900</td>\n",
       "      <td>None</td>\n",
       "      <td>3</td>\n",
       "      <td>1</td>\n",
       "      <td>1996</td>\n",
       "      <td>NC</td>\n",
       "      <td>3225 Burkston Rd</td>\n",
       "      <td>Charlotte</td>\n",
       "      <td>...</td>\n",
       "      <td>False</td>\n",
       "      <td>True</td>\n",
       "      <td>True</td>\n",
       "      <td>Charlotte</td>\n",
       "      <td>1.0</td>\n",
       "      <td>2018-01-18</td>\n",
       "      <td>3352324</td>\n",
       "      <td>True</td>\n",
       "      <td>28269</td>\n",
       "      <td>Come see this charming ranch with soaring vaul...</td>\n",
       "    </tr>\n",
       "    <tr>\n",
       "      <th>home2</th>\n",
       "      <td>-80.84287</td>\n",
       "      <td>1280</td>\n",
       "      <td>185000</td>\n",
       "      <td>None</td>\n",
       "      <td>3</td>\n",
       "      <td>1</td>\n",
       "      <td>1953</td>\n",
       "      <td>NC</td>\n",
       "      <td>2109 Rush Wind Dr</td>\n",
       "      <td>Charlotte</td>\n",
       "      <td>...</td>\n",
       "      <td>False</td>\n",
       "      <td>False</td>\n",
       "      <td>True</td>\n",
       "      <td>Charlotte</td>\n",
       "      <td>None</td>\n",
       "      <td>2018-01-17</td>\n",
       "      <td>3352166</td>\n",
       "      <td>True</td>\n",
       "      <td>28206</td>\n",
       "      <td>This is a charming 2 bedroom and 2 bath house....</td>\n",
       "    </tr>\n",
       "  </tbody>\n",
       "</table>\n",
       "<p>2 rows × 37 columns</p>\n",
       "</div>"
      ],
      "text/plain": [
       "       address_lon  listing_data_building_area_sq_ft  listing_data_list_price  \\\n",
       "home1  -80.7860001                              1354                   159900   \n",
       "home2    -80.84287                              1280                   185000   \n",
       "\n",
       "      address_unit  listing_data_num_bedrooms features_floors  \\\n",
       "home1         None                          3               1   \n",
       "home2         None                          3               1   \n",
       "\n",
       "      features_year_built address_state address_address_line1  \\\n",
       "home1                1996            NC      3225 Burkston Rd   \n",
       "home2                1953            NC     2109 Rush Wind Dr   \n",
       "\n",
       "      scrape_address_city                        ...                          \\\n",
       "home1           Charlotte                        ...                           \n",
       "home2           Charlotte                        ...                           \n",
       "\n",
       "       features_has_well  features_has_garage features_no_pool_well_septic  \\\n",
       "home1              False                 True                         True   \n",
       "home2              False                False                         True   \n",
       "\n",
       "      address_city features_garage_detail features_start_date_on_site  \\\n",
       "home1    Charlotte                    1.0                  2018-01-18   \n",
       "home2    Charlotte                   None                  2018-01-17   \n",
       "\n",
       "      features_MLS  features_has_driveway address_zipcode  \\\n",
       "home1      3352324                   True           28269   \n",
       "home2      3352166                   True           28206   \n",
       "\n",
       "                                           features_desc  \n",
       "home1  Come see this charming ranch with soaring vaul...  \n",
       "home2  This is a charming 2 bedroom and 2 bath house....  \n",
       "\n",
       "[2 rows x 37 columns]"
      ]
     },
     "execution_count": 24,
     "metadata": {},
     "output_type": "execute_result"
    }
   ],
   "source": [
    "pd.DataFrame.from_dict(f,orient='index')"
   ]
  },
  {
   "cell_type": "code",
   "execution_count": 2,
   "metadata": {
    "collapsed": false
   },
   "outputs": [
    {
     "name": "stdout",
     "output_type": "stream",
     "text": [
      " Volume in drive C is Blade Stealth\n",
      " Volume Serial Number is F47D-19FB\n",
      "\n",
      " Directory of C:\\Users\\Sanjeev\\Desktop\\ribbon\\propertyscraper\\src\\remax\\utils\n",
      "\n",
      "01/22/2018  12:51 PM    <DIR>          .\n",
      "01/22/2018  12:51 PM    <DIR>          ..\n",
      "01/21/2018  09:46 PM    <DIR>          .ipynb_checkpoints\n",
      "01/22/2018  12:51 PM            42,480 house canary api tester.ipynb\n",
      "01/22/2018  01:06 PM                71 remax_scrape.py\n",
      "01/22/2018  01:06 PM            14,460 scraping_utils.py\n",
      "01/22/2018  12:28 PM            12,720 scraping_utils.pyc\n",
      "01/21/2018  11:07 AM                 0 untitled.txt\n",
      "               5 File(s)         69,731 bytes\n",
      "               3 Dir(s)  48,429,694,976 bytes free\n"
     ]
    }
   ],
   "source": [
    "ls"
   ]
  },
  {
   "cell_type": "code",
   "execution_count": 1,
   "metadata": {
    "collapsed": true
   },
   "outputs": [],
   "source": [
    "import remax_scrape\n",
    "from bs4 import BeautifulSoup\n",
    "from requests import get\n",
    "from scraping_utils import *"
   ]
  },
  {
   "cell_type": "code",
   "execution_count": 2,
   "metadata": {
    "collapsed": false
   },
   "outputs": [],
   "source": [
    "a=remax_scrape.createRemaxCityURL('charlotte','nc',1)"
   ]
  },
  {
   "cell_type": "code",
   "execution_count": 3,
   "metadata": {
    "collapsed": false
   },
   "outputs": [],
   "source": [
    "scrape_list = remax_scrape.findReMaxURLS(BeautifulSoup(get(a).text,'html.parser'))"
   ]
  },
  {
   "cell_type": "code",
   "execution_count": 4,
   "metadata": {
    "collapsed": false
   },
   "outputs": [
    {
     "name": "stdout",
     "output_type": "stream",
     "text": [
      "{u'address_info': {u'status': {u'changes': [], u'errors': [], u'requested_item': {u'city': u'Charlotte', u'state': u'NC', u'zipcode': u'28210', u'address': u'2100 Shadyview Drive'}, u'details': [u'Address fully verified'], u'match': True}, u'city': u'Charlotte', u'county_fips': u'37119', u'geo_precision': u'rooftop', u'block_id': u'371190031021017', u'zipcode': u'28210', u'slug': u'2100-Shadyview-Dr-Charlotte-NC-28210', u'address_full': u'2100 Shadyview Dr Charlotte NC 28210', u'zipcode_plus4': u'3836', u'state': u'NC', u'metrodiv': None, u'unit': None, u'address': u'2100 Shadyview Dr', u'lat': 35.14787, u'lng': -80.86303, u'blockgroup_id': u'371190031021', u'msa': u'16740'}, u'property/geocode': {u'api_code_description': u'ok', u'api_code': 0, u'result': True}}\n",
      "verified address with house canary API\n"
     ]
    },
    {
     "ename": "ValueError",
     "evalue": "invalid literal for int() with base 10: '< 1'",
     "output_type": "error",
     "traceback": [
      "\u001b[1;31m---------------------------------------------------------------------------\u001b[0m",
      "\u001b[1;31mValueError\u001b[0m                                Traceback (most recent call last)",
      "\u001b[1;32m<ipython-input-4-e32a00cb5f5c>\u001b[0m in \u001b[0;36m<module>\u001b[1;34m()\u001b[0m\n\u001b[1;32m----> 1\u001b[1;33m \u001b[0mhome\u001b[0m\u001b[1;33m=\u001b[0m\u001b[0mpullHomeData\u001b[0m\u001b[1;33m(\u001b[0m\u001b[0mscrape_list\u001b[0m\u001b[1;33m[\u001b[0m\u001b[1;36m2\u001b[0m\u001b[1;33m]\u001b[0m\u001b[1;33m)\u001b[0m\u001b[1;33m\u001b[0m\u001b[0m\n\u001b[0m",
      "\u001b[1;32mC:\\Users\\Sanjeev\\Desktop\\ribbon\\propertyscraper\\src\\remax\\utils\\scraping_utils.py\u001b[0m in \u001b[0;36mpullHomeData\u001b[1;34m(home_url)\u001b[0m\n\u001b[0;32m    219\u001b[0m     \u001b[1;32melse\u001b[0m\u001b[1;33m:\u001b[0m\u001b[1;33m\u001b[0m\u001b[0m\n\u001b[0;32m    220\u001b[0m         \u001b[0mfeatures\u001b[0m\u001b[1;33m[\u001b[0m\u001b[1;34m'days_on_site'\u001b[0m\u001b[1;33m]\u001b[0m \u001b[1;33m=\u001b[0m \u001b[0mint\u001b[0m\u001b[1;33m(\u001b[0m\u001b[0mdos\u001b[0m\u001b[1;33m)\u001b[0m\u001b[1;33m\u001b[0m\u001b[0m\n\u001b[1;32m--> 221\u001b[1;33m     \u001b[0mstarting_date\u001b[0m \u001b[1;33m=\u001b[0m \u001b[0mdatetime\u001b[0m\u001b[1;33m.\u001b[0m\u001b[0mtoday\u001b[0m\u001b[1;33m(\u001b[0m\u001b[1;33m)\u001b[0m \u001b[1;33m-\u001b[0m \u001b[0mtimedelta\u001b[0m\u001b[1;33m(\u001b[0m\u001b[0mdays\u001b[0m\u001b[1;33m=\u001b[0m\u001b[0mint\u001b[0m\u001b[1;33m(\u001b[0m\u001b[0mdos\u001b[0m\u001b[1;33m)\u001b[0m\u001b[1;33m)\u001b[0m\u001b[1;33m\u001b[0m\u001b[0m\n\u001b[0m\u001b[0;32m    222\u001b[0m     \u001b[0mfeatures\u001b[0m\u001b[1;33m[\u001b[0m\u001b[1;34m'start_date_on_site'\u001b[0m\u001b[1;33m]\u001b[0m \u001b[1;33m=\u001b[0m \u001b[0mstarting_date\u001b[0m\u001b[1;33m.\u001b[0m\u001b[0mstrftime\u001b[0m\u001b[1;33m(\u001b[0m\u001b[1;34m'%Y-%m-%d'\u001b[0m\u001b[1;33m)\u001b[0m\u001b[1;33m\u001b[0m\u001b[0m\n\u001b[0;32m    223\u001b[0m \u001b[1;33m\u001b[0m\u001b[0m\n",
      "\u001b[1;31mValueError\u001b[0m: invalid literal for int() with base 10: '< 1'"
     ]
    }
   ],
   "source": [
    "home=pullHomeData(scrape_list[2])"
   ]
  },
  {
   "cell_type": "code",
   "execution_count": 15,
   "metadata": {
    "collapsed": false
   },
   "outputs": [
    {
     "data": {
      "text/plain": [
       "u'https://leadingedge-northcarolina.remax.com/realestatehomesforsale/710-w-searcy-street-heber-springs-ar-72543-gid1000016768931.html'"
      ]
     },
     "execution_count": 15,
     "metadata": {},
     "output_type": "execute_result"
    }
   ],
   "source": [
    "scrape_list[2]"
   ]
  },
  {
   "cell_type": "code",
   "execution_count": 16,
   "metadata": {
    "collapsed": false
   },
   "outputs": [
    {
     "data": {
      "text/plain": [
       "[u'https://leadingedge-northcarolina.remax.com/realestatehomesforsale/0-hwy-190-highway-basile-la-70515-id302220882.html',\n",
       " u'https://leadingedge-northcarolina.remax.com/realestatehomesforsale/114-mallette-red-river-nm-87558-id304992979.html',\n",
       " u'https://leadingedge-northcarolina.remax.com/realestatehomesforsale/710-w-searcy-street-heber-springs-ar-72543-gid1000016768931.html',\n",
       " u'https://leadingedge-northcarolina.remax.com/realestatehomesforsale/31-lantern-hill-road-little-rock-ar-72207-gid600012492898.html',\n",
       " u'https://leadingedge-northcarolina.remax.com/realestatehomesforsale/lot-72-lake-park-dr-lake-shirley-ar-72013-id302529637.html',\n",
       " u'https://leadingedge-northcarolina.remax.com/realestatehomesforsale/15-bergerac-lane-little-rock-ar-72211-gid600012496037.html',\n",
       " u'https://leadingedge-northcarolina.remax.com/realestatehomesforsale/2773-pheasant-run-st-lenoir-nc-28645-id299447150.html',\n",
       " u'https://leadingedge-northcarolina.remax.com/realestatehomesforsale/piney-mountain-rd-waldron-ar-72598-id299849626.html',\n",
       " u'https://leadingedge-northcarolina.remax.com/realestatehomesforsale/lot-45-timber-shores-arkdale-wi-54613-id298657356.html',\n",
       " u'https://leadingedge-northcarolina.remax.com/realestatehomesforsale/00-bayview-dr-quitman-ar-72131-id295091682.html',\n",
       " u'https://leadingedge-northcarolina.remax.com/realestatehomesforsale/37-twp-rd-37-scotttown-oh-45678-id300784395.html',\n",
       " u'https://leadingedge-northcarolina.remax.com/realestatehomesforsale/811-casteen-road-cabot-ar-72007-gid600012332139.html',\n",
       " u'https://leadingedge-northcarolina.remax.com/realestatehomesforsale/34-monte-vista-estates-road-red-river-nm-87558-id304888675.html',\n",
       " u'https://leadingedge-northcarolina.remax.com/realestatehomesforsale/5520-racquet-ln-boulder-co-80303-gid500024353975.html',\n",
       " u'https://leadingedge-northcarolina.remax.com/realestatehomesforsale/886-55th-street-boulder-co-80303-id255485321.html',\n",
       " u'https://leadingedge-northcarolina.remax.com/realestatehomesforsale/316-island-road-left-hancock-ny-13783-gid400032564680.html',\n",
       " u'https://leadingedge-northcarolina.remax.com/realestatehomesforsale/17-top-ridge-trail-white-lake-ny-12783-id304501648.html',\n",
       " u'https://leadingedge-northcarolina.remax.com/realestatehomesforsale/68-oxford-drive-white-lake-ny-12786-gid400032265457.html',\n",
       " u'https://leadingedge-northcarolina.remax.com/realestatehomesforsale/690-fifth-plaza-florissant-mo-63031-gid600023733119.html',\n",
       " u'https://leadingedge-northcarolina.remax.com/realestatehomesforsale/112-winterdale-dr-lake-alfred-fl-33850-id304724695.html',\n",
       " u'https://leadingedge-northcarolina.remax.com/realestatehomesforsale/186-lake-shore-s-dr-jasper-al-35504-id304664894.html',\n",
       " u'https://leadingedge-northcarolina.remax.com/realestatehomesforsale/62-saragossa-street-saint-augustine-fl-32084-id305417829.html',\n",
       " u'https://leadingedge-northcarolina.remax.com/realestatehomesforsale/tbd-shiloh-way-pembroke-va-24136-id305373532.html',\n",
       " u'https://leadingedge-northcarolina.remax.com/realestatehomesforsale/610-sanford-ln-nw-topeka-ks-66617-gid600018354529.html']"
      ]
     },
     "execution_count": 16,
     "metadata": {},
     "output_type": "execute_result"
    }
   ],
   "source": [
    "scrape_list"
   ]
  },
  {
   "cell_type": "code",
   "execution_count": 18,
   "metadata": {
    "collapsed": false
   },
   "outputs": [
    {
     "data": {
      "text/plain": [
       "'https://executive3-northcarolina.remax.com/realestatehomesforsale/charlotte-nc-p001'"
      ]
     },
     "execution_count": 18,
     "metadata": {},
     "output_type": "execute_result"
    }
   ],
   "source": [
    "a"
   ]
  },
  {
   "cell_type": "code",
   "execution_count": null,
   "metadata": {
    "collapsed": true
   },
   "outputs": [],
   "source": [
    "BeautifulSoup(a)"
   ]
  }
 ],
 "metadata": {
  "kernelspec": {
   "display_name": "Python 2",
   "language": "python",
   "name": "python2"
  },
  "language_info": {
   "codemirror_mode": {
    "name": "ipython",
    "version": 2
   },
   "file_extension": ".py",
   "mimetype": "text/x-python",
   "name": "python",
   "nbconvert_exporter": "python",
   "pygments_lexer": "ipython2",
   "version": "2.7.12"
  }
 },
 "nbformat": 4,
 "nbformat_minor": 0
}
