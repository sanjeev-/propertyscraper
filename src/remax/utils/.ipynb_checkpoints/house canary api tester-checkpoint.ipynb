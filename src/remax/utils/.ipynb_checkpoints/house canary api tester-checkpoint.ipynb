{
 "cells": [
  {
   "cell_type": "code",
   "execution_count": 1,
   "metadata": {
    "collapsed": true
   },
   "outputs": [],
   "source": [
    "import requests\n",
    "import pprint\n",
    "import getpass"
   ]
  },
  {
   "cell_type": "code",
   "execution_count": null,
   "metadata": {
    "collapsed": true
   },
   "outputs": [],
   "source": [
    "test_key = 'WVXI9291RNJY49L4ZKH5' \n",
    "test_secret = 'BcsFQhZ9o3Jxjexy7fXjq1G0LusBiQ2r'\n",
    "\n",
    "url = 'https://api.housecanary.com/v2/property/test_addresses'\n",
    "\n",
    "response = requests.get(url, auth=(test_key, test_secret))\n",
    "\n",
    "test_addresses = response.json()\n",
    "\n",
    "pprint.pprint(test_addresses)"
   ]
  }
 ],
 "metadata": {
  "kernelspec": {
   "display_name": "Python 2",
   "language": "python",
   "name": "python2"
  },
  "language_info": {
   "codemirror_mode": {
    "name": "ipython",
    "version": 2
   },
   "file_extension": ".py",
   "mimetype": "text/x-python",
   "name": "python",
   "nbconvert_exporter": "python",
   "pygments_lexer": "ipython2",
   "version": "2.7.12"
  }
 },
 "nbformat": 4,
 "nbformat_minor": 0
}
